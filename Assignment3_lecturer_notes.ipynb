{
  "nbformat": 4,
  "nbformat_minor": 0,
  "metadata": {
    "colab": {
      "name": "Assignment3_lecturer_notes.ipynb",
      "provenance": [],
      "collapsed_sections": [],
      "include_colab_link": true
    },
    "kernelspec": {
      "name": "python3",
      "display_name": "Python 3"
    },
    "language_info": {
      "name": "python"
    }
  },
  "cells": [
    {
      "cell_type": "markdown",
      "metadata": {
        "id": "view-in-github",
        "colab_type": "text"
      },
      "source": [
        "<a href=\"https://colab.research.google.com/github/DaveWates/Assignment-ISYS5002/blob/main/Assignment3_lecturer_notes.ipynb\" target=\"_parent\"><img src=\"https://colab.research.google.com/assets/colab-badge.svg\" alt=\"Open In Colab\"/></a>"
      ]
    },
    {
      "cell_type": "markdown",
      "metadata": {
        "id": "C0KJb75b9V1p"
      },
      "source": [
        "**This Program determines the salary of key executive personnel of companies whereby a user  provides a stock market ticker. (I have chosen the major Australian Banks as a test sample). It will then calculate the tax payable on the reported income.** \n",
        "\n",
        "**The ticker is input in Yahoo Finance link https://finance.yahoo.com/?fr=sycsrp_catchall where the URL link for the company profile page may be sourced.** "
      ]
    },
    {
      "cell_type": "markdown",
      "metadata": {
        "id": "MXEg5Eo3-Ygs"
      },
      "source": [
        "**1. Load the packages**\n"
      ]
    },
    {
      "cell_type": "code",
      "metadata": {
        "id": "pgG6yYGe6_8G"
      },
      "source": [
        "!pip install kora -q\n",
        "from kora.selenium import wd\n",
        "from bs4 import BeautifulSoup"
      ],
      "execution_count": null,
      "outputs": []
    },
    {
      "cell_type": "markdown",
      "metadata": {
        "id": "kbdfpc35HcCm"
      },
      "source": [
        "**2.Prompt the user for the ticker and locate the URL from Yahoo Finance.**"
      ]
    },
    {
      "cell_type": "code",
      "metadata": {
        "colab": {
          "base_uri": "https://localhost:8080/"
        },
        "id": "iCR1zDSM7FRT",
        "outputId": "b3dcc8c5-6137-4b8c-9607-65985816e31a"
      },
      "source": [
        "#Prompt user for Bank\n",
        "bank = input('Which bank do you want to search?;choose from ANZ, CBA, NAB, WBC = ')\n",
        "\n",
        "urls = ('https://finance.yahoo.com/quote/ANZ.AX/profile?p=ANZ.AX',\n",
        "       'https://finance.yahoo.com/quote/CBA.AX/profile?p=CBA.AX',\n",
        "       'https://finance.yahoo.com/quote/NAB.AX/profile?p=NAB.AX',\n",
        "       'https://finance.yahoo.com/quote/WBC.AX/profile?p=WBC.AX')\n",
        "\n",
        "def get_url():\n",
        "  for url in urls:\n",
        "   if bank == 'ANZ':\n",
        "    return (urls[0])\n",
        "   if bank == 'CBA':\n",
        "    return (urls[1])\n",
        "   if bank == 'NAB':\n",
        "    return (urls[2])\n",
        "   if bank == 'WBC':\n",
        "    return (urls[3])\n",
        "\n",
        "print('The url required is', get_url())\n",
        "\n"
      ],
      "execution_count": null,
      "outputs": [
        {
          "output_type": "stream",
          "name": "stdout",
          "text": [
            "Which bank do you want to search?;choose from ANZ, CBA, NAB, WBC = WBC\n",
            "The url required is https://finance.yahoo.com/quote/WBC.AX/profile?p=WBC.AX\n"
          ]
        }
      ]
    },
    {
      "cell_type": "markdown",
      "metadata": {
        "id": "Cv80tQJNjfYZ"
      },
      "source": [
        "# LECTURER NOTE #1\n",
        "\n",
        "Having a list of URL, and then checking for the string to get to the index is good logic.  But for this assignment is for Australia companies, not just the banks.\n",
        "\n",
        "So you will need to do something like we did for Amazon.  With the amazon example we usead a search term, in this example we ask the user for a ticker.\n",
        "\n",
        "    ticker = input(\"What company do you want me to search for? \")\n",
        "    url = get_url(ticker)\n",
        "\n",
        "and get_url() is something like:\n",
        "\n",
        "    def get_url(thing):\n",
        "      template = 'https://finance.yahoo.com/quote/{}/profile?p={}'\n",
        "      url = template.format(thing, thing)\n",
        "      return url\n",
        "\n",
        "The function uses a format string.  The way to use a format string is to create a string and use '{}' as a placeholder to identify where you want to update the string by replacing the '{}'.   I can then call the format() method and give it value to be used.  In this case there are two sets of '{}' and they both need to be the same thing soe we do something like:\n",
        "\n",
        "    template.format(thing, thing)\n",
        "\n",
        "Notice how we gave the format() function two values, one for each set of '{}' o the string.\n"
      ]
    },
    {
      "cell_type": "markdown",
      "metadata": {
        "id": "WKjN1QBaHtRy"
      },
      "source": [
        "**3. Use the related URL to scrape the company profile page.**"
      ]
    },
    {
      "cell_type": "code",
      "metadata": {
        "id": "ZiOiWc_L7Z80"
      },
      "source": [
        "wd.get(get_url())\n",
        "soup = BeautifulSoup(wd.page_source, 'html.parser')\n",
        "tables = soup.find_all('table')\n",
        "for table in tables:\n",
        "  body = table.find('tbody')\n",
        "  rows = body.find_all('tr')\n",
        "  for row in rows:\n",
        "    data = row.find_all('td')\n",
        "    for txt in data:\n",
        "      print(txt.text)\n",
        "    print()"
      ],
      "execution_count": null,
      "outputs": []
    },
    {
      "cell_type": "markdown",
      "metadata": {
        "id": "w9BGUFw2iq__"
      },
      "source": [
        "# Lecturer Note #2\n",
        "\n",
        "The following code (from above) will print out the data in each cell of each table \n",
        "\n",
        "    wd.get(get_url())\n",
        "    soup = BeautifulSoup(wd.page_source, 'html.parser')\n",
        "    tables = soup.find_all('table')\n",
        "    for table in tables:\n",
        "      body = table.find('tbody')\n",
        "      rows = body.find_all('tr')\n",
        "      for row in rows:\n",
        "        data = row.find_all('td')\n",
        "        for txt in data:\n",
        "          print(txt.text)\n",
        "        print()\n",
        "\n",
        "For this assignment, yahoo finance only has one table.  The information we need is the executives name, title and pay.  Looking at the table from Yahoo, we see the name is hte firxt column/cell, title is the second column/cell and the pay is in the third column/cell.\n",
        "\n",
        "Now find_all() wil return a list of table, and we want the first table so to get the table we need something like:\n",
        "\n",
        "    tables = soup.find_all('table')\n",
        "    table = tables[0]. # Only want the fist table\n",
        "\n",
        "But with BeautifulSoup, if we only want the 'first' one of something we can use the find() function.  So the follwing also find the first table:\n",
        "\n",
        "    table = soup.find('table')\n",
        "\n",
        "It can be a little bit confusing, and sometimes we dont notice the difference between the functions 'find_all()' and 'find()'\n",
        "\n",
        "Either method is OK, so long as you get the table.  So the code becomes:\n",
        "\n",
        "    wd.get(get_url())\n",
        "    soup = BeautifulSoup(wd.page_source, 'html.parser')\n",
        "    table = soup.find('table')\n",
        "    body = table.find('tbody')\n",
        "    rows = body.find_all('tr')\n",
        "    for row in rows:\n",
        "      data = row.find_all('td')\n",
        "      for txt in data:\n",
        "        print(txt.text)\n",
        "      print()\n",
        "\n",
        "We can improve it further, for each row, we know we only want the first three cell, name, title and pay.  It would be great if we could turn the row into a record:\n",
        "\n",
        "    name: John Smith \n",
        "    title: CEO\n",
        "    pay: 5.4M\n",
        "\n",
        "This looks a bit like a dictionary in Python.  We have a key, eg. name, and a value 'John Smith'.   The key we create, and the value we read form the table. \n",
        "The 'name' if the first cell/column, title is the second cell/column and the pay is the third cell/column. So the code becomes:\n",
        "\n",
        "    wd.get(get_url())\n",
        "    soup = BeautifulSoup(wd.page_source, 'html.parser')\n",
        "    table = soup.find('table')\n",
        "    body = table.find('tbody')\n",
        "    rows = body.find_all('tr')\n",
        "    for row in rows:\n",
        "      data = row.find_all('td')\n",
        "      # Remeber computer start counting form zero, so the 'first' is '0'\n",
        "      record = {'name': data[0], 'title': data[1], 'pay': data[2]}\n",
        "\n",
        "So we can create records as a python dictionary.  Okay, so that gets us one record, but how can I save every row.  Well we need to create a list to to store/save each record.  Each time we create a new record, we add/append it to the list.  \n",
        "\n",
        "    wd.get(get_url())\n",
        "    soup = BeautifulSoup(wd.page_source, 'html.parser')\n",
        "    table = soup.find('table')\n",
        "    body = table.find('tbody')\n",
        "    rows = body.find_all('tr')\n",
        "    list_of_records = []. # create a empty list to save/store our records\n",
        "    for row in rows:\n",
        "      data = row.find_all('td')\n",
        "      # Remeber computer start counting form zero, so the 'first' is '0'\n",
        "      record = {'name': data[0], 'title': data[1], 'pay': data[2]}\n",
        "      list_of_records.append(record)  # save the record to our list\n",
        "    # lets see if that workd, print out the records\n",
        "    print(str(list_of_records))\n",
        "\n",
        "So we have a list of records, well actually a 'list of dictionaries' since each record is actually a python dictionary.  Now if we are happy that the code works, lets put the record creation into a function\n",
        "\n",
        "    def get_records(soup):\n",
        "      table = soup.find('table')\n",
        "      body = table.find('tbody')\n",
        "      rows = body.find_all('tr')\n",
        "      list_of_records = []. # create a empty list to save/store our records\n",
        "      for row in rows:\n",
        "        data = row.find_all('td')\n",
        "        # Remeber computer start counting form zero, so the 'first' is '0'\n",
        "        record = {'name': data[0], 'title': data[1], 'pay': data[2]}\n",
        "        list_of_records.append(record)  # save the record to our list\n",
        "      \n",
        "      return records\n",
        "\n",
        "\n",
        "It not quite as simple.  We know later that we need to calculate the tax payable. To do this we will need a number, but the pay data form the table is something like: 5.4M, or 929.8k and we need to convert this to: 5400000 and 939800.\n",
        "\n",
        "This can be tricky, but will give some hints.\n",
        "Lets assume pay = '5.4M'.  This is a string. In python a string is a list of characters.  Being a list, I can use a index to get to characters.  I can get the last character by using a '-1' index.\n",
        "\n",
        "    last_char = pay[-1]\n",
        "\n",
        "I can strip or remove the last character, but copying everything upto but no including the last character\n",
        "\n",
        "    pay_number = pay[0:-1] # get first, to one less\n",
        "\n",
        "This should be an number, since it has a decimal point it data type is a float\n",
        "\n",
        "    pay_number = float(pay[0:-1])\n",
        "\n",
        "If the 'M' we need to multiply by 1000000, if its is 'k' we multiple 1000 and if it is a 'A' then that means no pay values was entered in the table.\n",
        "\n",
        "    num_part = pay[0:-1]\n",
        "    if last_char == 'M':\n",
        "        salary = float(num_part) * 1000000\n",
        "    elif last_char == 'k': \n",
        "        salary = float(num_part) * 1000\n",
        "    else:\n",
        "        salary = 0\n",
        "\n",
        "That is a little confusing, let put it into a function:\n",
        "\n",
        "    def get_salary(salary_string):\n",
        "       last_char = salary_string[-1] \n",
        "       num_part = salary_string[0:-1]\n",
        "        if last_char == 'M':\n",
        "            salary = float(num_part) * 1000000\n",
        "        elif last_char == 'k': \n",
        "            salary = float(num_part) * 1000\n",
        "        else: # Must a N/A entry\n",
        "            salary = 0\n",
        "       return salary\n",
        "\n",
        "\n",
        "So we get records, we get something like:\n",
        "\n",
        "    def get_records(soup):\n",
        "      table = soup.find('table')\n",
        "      body = table.find('tbody')\n",
        "      rows = body.find_all('tr')\n",
        "      list_of_records = []. # create a empty list to save/store our records\n",
        "      for row in rows:\n",
        "        data = row.find_all('td')\n",
        "        # Remeber computer start counting form zero, so the 'first' is '0'\n",
        "        pay = get_salary(data[2])\n",
        "        record = {'name': data[0], 'title': data[1], 'pay': pay}\n",
        "        list_of_records.append(record)  # save the record to our list\n",
        "      \n",
        "      return records\n",
        "\n",
        "\n",
        "\n",
        "\n",
        "And our code becomes\n",
        "\n",
        "    wd.get(get_url())\n",
        "    soup = BeautifulSoup(wd.page_source, 'html.parser')\n",
        "    executives = get_records(soup)\n",
        "\n",
        "\n",
        "Now to make thing easier, we should put this into a panadas dataframe. In the Amazon example, I showed how to create a dataframe from a list of dictoinaries.  Or you could google 'How do I create a dataframe form a list of dictionaries'\n",
        "\n",
        "    import panadas as pd\n",
        "    executivies_df = pd.from_records(executives)\n",
        "\n",
        "Now one everyting is in a dataframe, we can work out how to add a column to calculate the tax.  **See Lecture Note #3**\n"
      ]
    },
    {
      "cell_type": "markdown",
      "metadata": {
        "id": "xnIDeiH-QBfb"
      },
      "source": [
        "4. **Manipulate the data for ease of reference using Pandas.**"
      ]
    },
    {
      "cell_type": "code",
      "metadata": {
        "id": "dhDYw2YNPx_j"
      },
      "source": [
        "import pandas as pd\n"
      ],
      "execution_count": null,
      "outputs": []
    },
    {
      "cell_type": "code",
      "metadata": {
        "colab": {
          "base_uri": "https://localhost:8080/",
          "height": 297
        },
        "id": "tN7fgB7AMNx7",
        "outputId": "2185c2e0-4712-488b-a302-165b0b670d91"
      },
      "source": [
        "# Creating a data frame df.\n",
        "df = pd.DataFrame({'NAME':['Peter Francis King', 'Michael  Rowland', 'Leslie Wilson Vance', 'Rebecca  Lim','Christine  Parker','Jason  Yetton','Carolyn  McCann','David  Stephen'],'SALARY':[2810000, 1220000, 1000000, 871920,999800,1250000,941000,1890000]})\n",
        "# Head displays only the executives with reported income from the data frame.\n",
        "df.head(10)"
      ],
      "execution_count": null,
      "outputs": [
        {
          "output_type": "execute_result",
          "data": {
            "text/html": [
              "<div>\n",
              "<style scoped>\n",
              "    .dataframe tbody tr th:only-of-type {\n",
              "        vertical-align: middle;\n",
              "    }\n",
              "\n",
              "    .dataframe tbody tr th {\n",
              "        vertical-align: top;\n",
              "    }\n",
              "\n",
              "    .dataframe thead th {\n",
              "        text-align: right;\n",
              "    }\n",
              "</style>\n",
              "<table border=\"1\" class=\"dataframe\">\n",
              "  <thead>\n",
              "    <tr style=\"text-align: right;\">\n",
              "      <th></th>\n",
              "      <th>NAME</th>\n",
              "      <th>SALARY</th>\n",
              "    </tr>\n",
              "  </thead>\n",
              "  <tbody>\n",
              "    <tr>\n",
              "      <th>0</th>\n",
              "      <td>Peter Francis King</td>\n",
              "      <td>2810000</td>\n",
              "    </tr>\n",
              "    <tr>\n",
              "      <th>1</th>\n",
              "      <td>Michael  Rowland</td>\n",
              "      <td>1220000</td>\n",
              "    </tr>\n",
              "    <tr>\n",
              "      <th>2</th>\n",
              "      <td>Leslie Wilson Vance</td>\n",
              "      <td>1000000</td>\n",
              "    </tr>\n",
              "    <tr>\n",
              "      <th>3</th>\n",
              "      <td>Rebecca  Lim</td>\n",
              "      <td>871920</td>\n",
              "    </tr>\n",
              "    <tr>\n",
              "      <th>4</th>\n",
              "      <td>Christine  Parker</td>\n",
              "      <td>999800</td>\n",
              "    </tr>\n",
              "    <tr>\n",
              "      <th>5</th>\n",
              "      <td>Jason  Yetton</td>\n",
              "      <td>1250000</td>\n",
              "    </tr>\n",
              "    <tr>\n",
              "      <th>6</th>\n",
              "      <td>Carolyn  McCann</td>\n",
              "      <td>941000</td>\n",
              "    </tr>\n",
              "    <tr>\n",
              "      <th>7</th>\n",
              "      <td>David  Stephen</td>\n",
              "      <td>1890000</td>\n",
              "    </tr>\n",
              "  </tbody>\n",
              "</table>\n",
              "</div>"
            ],
            "text/plain": [
              "                  NAME   SALARY\n",
              "0   Peter Francis King  2810000\n",
              "1     Michael  Rowland  1220000\n",
              "2  Leslie Wilson Vance  1000000\n",
              "3         Rebecca  Lim   871920\n",
              "4    Christine  Parker   999800\n",
              "5        Jason  Yetton  1250000\n",
              "6      Carolyn  McCann   941000\n",
              "7       David  Stephen  1890000"
            ]
          },
          "metadata": {},
          "execution_count": 194
        }
      ]
    },
    {
      "cell_type": "markdown",
      "metadata": {
        "id": "NHWJsXCYSKoY"
      },
      "source": [
        "**5. Determine tax payable on the reported income using the ATO tax rate table.**\n",
        "\n",
        "[Resident tax rates 2021–22\n",
        "Taxable income](https://www.ato.gov.au/rates/individual-income-tax-rates/)\n",
        "\n",
        "Income            | Tax on this income \n",
        "------------------|----------------------\n",
        "0 – \\$18,200       | Nil\n",
        "\\$18,201 – \\$45,000 | 19 cents for each \\$1 over \\$18,200\n",
        "\\$45,001 – \\$120,000 | \\$5,092 plus 32.5 cents for each \\$1 over \\$45,000\n",
        "\\$120,001 – \\$180,000 |  \\$29,467 plus 37 cents for each \\$1 over \\$120,000\n",
        "\\$180,001 and over | \\$51,667 plus 45 cents for each \\$1 over \\$180,000\n",
        "\n"
      ]
    },
    {
      "cell_type": "code",
      "metadata": {
        "id": "kUEJStN3SbXL"
      },
      "source": [
        "# A formula to calculate tax payable based on the above rates"
      ],
      "execution_count": null,
      "outputs": []
    },
    {
      "cell_type": "code",
      "metadata": {
        "id": "Ztl-OosRShVp"
      },
      "source": [
        "def calc_tax(income):\n",
        "  if income <= 18200:\n",
        "    tax = 0\n",
        "  elif 18200 < income <= 45000:\n",
        "    tax = (income - 18200) * 0.19\n",
        "  elif 45000 < income <= 120000:\n",
        "    tax = ((income - 45001) * 0.325) + 5092\n",
        "  elif 120000 < income <= 180000:\n",
        "    tax = ((income - 120001) * 0.37) + 29467\n",
        "  elif 18000 < income: \n",
        "    tax = ((income - 180001) * 0.45) + 51667\n",
        "  return tax"
      ],
      "execution_count": null,
      "outputs": []
    },
    {
      "cell_type": "code",
      "metadata": {
        "colab": {
          "base_uri": "https://localhost:8080/"
        },
        "id": "SqiB0bYNZQlT",
        "outputId": "7662ddbe-3aea-460d-8217-c95f0495d0e5"
      },
      "source": [
        "# Match Executive's name with reported salary\n",
        "\n",
        "name = input('Please enter the Executives name from the list above  = ')\n",
        "incomes= ('2810000','1220000','1000000','871920','999800','1250000','941000','1890000')\n",
        "\n",
        "def get_salary_from_name():\n",
        "  for income in incomes:\n",
        "    if name == 'Peter Francis King':\n",
        "     return (incomes[0])\n",
        "    if name == 'Michael Rowland':\n",
        "     return (incomes[1])\n",
        "    if name == 'Leslie Wilson Vance':\n",
        "     return (incomes[2])\n",
        "    if name == 'Rebecca Lim':\n",
        "     return (incomes[3]) \n",
        "    if name == 'Christine Parker':\n",
        "     return (incomes[4])\n",
        "    if name == 'Jason Yetton':\n",
        "     return (incomes[5])\n",
        "    if name == 'Carolyn McCann':\n",
        "     return (incomes[6])\n",
        "    if name == 'David Stephen':\n",
        "     return (incomes[7])\n",
        "\n",
        "print(\"The taxable salary is\", \"$\",get_salary_from_name())\n",
        "income = int(get_salary_from_name())\n",
        "tax = calc_tax(income)\n",
        "print (\"The tax payable on that income is\",\"$\", tax)"
      ],
      "execution_count": null,
      "outputs": [
        {
          "output_type": "stream",
          "name": "stdout",
          "text": [
            "Please enter the Executives name from the list above  = David Stephen\n",
            "The taxable salary is $ 1890000\n",
            "The tax payable on that income is $ 821166.55\n"
          ]
        }
      ]
    },
    {
      "cell_type": "markdown",
      "metadata": {
        "id": "zo0tlq_vu2Ax"
      },
      "source": [
        "# Lecturer Note #3\n",
        "\n",
        "You are on the right track.  Hopefully the follwing will help.\n",
        "\n",
        "Now  assuming you got the above working, we have a dataframe called 'executives.df'. This contains name, title and pay of each executive.  Now we need to add the tax.\n",
        "\n",
        "The reason I recommend panads, is kinda like a excell spread sheet.  Pandas provides lots of useful functions to work on data.\n",
        "\n",
        "In a dataframe, a column is identified by its column_name.\n",
        "\n",
        "So \"executivies_df['name']\" will give me all the names in the table.\n",
        "\n",
        "To add a new column, we just create a new 'key', so if I want a column with tax_payable I do the following:\n",
        "\n",
        "    executivies_df['tax_payable'] = something_to_work_out\n",
        "\n",
        "I will try to help with the 'something_to_work_out'\n",
        "\n",
        "The general logic is\n",
        "\n",
        "    for each executive's pay\n",
        "      claculate the tax and add to the table\n",
        "\n",
        "I see to have this general logic above.  SO if we can loop over the each row in the executives salary and calculate the tax.  Let use a similar pattern form before, create a empty list, calculat the tax and add to the list.\n",
        "\n",
        "    tax_payable = []\n",
        "    for salary in executives_df['salary']:\n",
        "      tax = calc_tax(salary)\n",
        "      tax_payable.append(tax)\n",
        "\n",
        "Now to add the new colume we simply let is equal the list we just created.\n",
        "\n",
        "    executives_df['tax_payable'] = tax_payable\n",
        "\n",
        "\n",
        "**I hope that helps**"
      ]
    },
    {
      "cell_type": "code",
      "metadata": {
        "id": "lrh_6U4syLBy"
      },
      "source": [
        ""
      ],
      "execution_count": null,
      "outputs": []
    }
  ]
}