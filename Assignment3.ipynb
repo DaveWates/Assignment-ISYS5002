{
  "nbformat": 4,
  "nbformat_minor": 0,
  "metadata": {
    "colab": {
      "name": "Assignment3.ipynb",
      "provenance": [],
      "collapsed_sections": [],
      "authorship_tag": "ABX9TyPyR/6COwUkHTtTTltqHiBO",
      "include_colab_link": true
    },
    "kernelspec": {
      "name": "python3",
      "display_name": "Python 3"
    },
    "language_info": {
      "name": "python"
    }
  },
  "cells": [
    {
      "cell_type": "markdown",
      "metadata": {
        "id": "view-in-github",
        "colab_type": "text"
      },
      "source": [
        "<a href=\"https://colab.research.google.com/github/DaveWates/Assignment-ISYS5002/blob/main/Assignment3.ipynb\" target=\"_parent\"><img src=\"https://colab.research.google.com/assets/colab-badge.svg\" alt=\"Open In Colab\"/></a>"
      ]
    },
    {
      "cell_type": "markdown",
      "metadata": {
        "id": "C0KJb75b9V1p"
      },
      "source": [
        "This Program determines the salary of key executive personnel \n",
        "in the major Australian Banks. Then calculates the tax payable\n",
        "of the reported income. **bold text**"
      ]
    },
    {
      "cell_type": "markdown",
      "metadata": {
        "id": "MXEg5Eo3-Ygs"
      },
      "source": [
        "1. Load the packages\n"
      ]
    },
    {
      "cell_type": "code",
      "metadata": {
        "colab": {
          "base_uri": "https://localhost:8080/"
        },
        "id": "pgG6yYGe6_8G",
        "outputId": "11b9e107-fde9-49ee-9603-d05feb07455a"
      },
      "source": [
        "!pip install kora -q\n",
        "from kora.selenium import wd\n",
        "from bs4 import BeautifulSoup"
      ],
      "execution_count": 1,
      "outputs": [
        {
          "output_type": "stream",
          "name": "stdout",
          "text": [
            "\u001b[?25l\r\u001b[K     |█████▊                          | 10 kB 22.0 MB/s eta 0:00:01\r\u001b[K     |███████████▍                    | 20 kB 28.4 MB/s eta 0:00:01\r\u001b[K     |█████████████████               | 30 kB 13.2 MB/s eta 0:00:01\r\u001b[K     |██████████████████████▊         | 40 kB 9.5 MB/s eta 0:00:01\r\u001b[K     |████████████████████████████▍   | 51 kB 5.1 MB/s eta 0:00:01\r\u001b[K     |████████████████████████████████| 57 kB 2.8 MB/s \n",
            "\u001b[?25h\u001b[?25l\r\u001b[K     |█████▉                          | 10 kB 27.4 MB/s eta 0:00:01\r\u001b[K     |███████████▊                    | 20 kB 37.6 MB/s eta 0:00:01\r\u001b[K     |█████████████████▌              | 30 kB 41.9 MB/s eta 0:00:01\r\u001b[K     |███████████████████████▍        | 40 kB 47.3 MB/s eta 0:00:01\r\u001b[K     |█████████████████████████████▎  | 51 kB 48.8 MB/s eta 0:00:01\r\u001b[K     |████████████████████████████████| 56 kB 3.6 MB/s \n",
            "\u001b[?25h"
          ]
        }
      ]
    },
    {
      "cell_type": "code",
      "metadata": {
        "colab": {
          "base_uri": "https://localhost:8080/"
        },
        "id": "iCR1zDSM7FRT",
        "outputId": "47ef3378-6a30-4a0f-fdb4-50d89db908c2"
      },
      "source": [
        "#Prompt user for Bank\n",
        "bank = input('Which bank do you want to search?;choose from ANZ, CBA, NAB, WBC = ')\n",
        "\n",
        "urls = ('https://finance.yahoo.com/quote/ANZ.AX/profile?p=ANZ.AX',\n",
        "       'https://finance.yahoo.com/quote/CBA.AX/profile?p=CBA.AX',\n",
        "       'https://finance.yahoo.com/quote/NAB.AX/profile?p=NAB.AX',\n",
        "       'https://finance.yahoo.com/quote/WBC.AX/profile?p=WBC.AX')\n",
        "\n",
        "def get_url():\n",
        "  for url in urls:\n",
        "   if bank == 'ANZ':\n",
        "    return (urls[0])\n",
        "   if bank == 'CBA':\n",
        "    return (urls[1])\n",
        "   if bank == 'NAB':\n",
        "    return (urls[2])\n",
        "   if bank == 'WBC':\n",
        "    return (urls[3])\n",
        "\n",
        "print('The url required is', get_url())\n",
        "\n"
      ],
      "execution_count": 9,
      "outputs": [
        {
          "output_type": "stream",
          "name": "stdout",
          "text": [
            "Which bank do you want to search?;choose from ANZ, CBA, NAB, WBC = CBA\n",
            "The url required is https://finance.yahoo.com/quote/CBA.AX/profile?p=CBA.AX\n"
          ]
        }
      ]
    },
    {
      "cell_type": "code",
      "metadata": {
        "colab": {
          "base_uri": "https://localhost:8080/"
        },
        "id": "ZiOiWc_L7Z80",
        "outputId": "01c55555-909f-4c46-c911-bacb09411707"
      },
      "source": [
        "wd.get(get_url())\n",
        "soup = BeautifulSoup(wd.page_source, 'html.parser')\n",
        "tables = soup.find_all('table')\n",
        "for table in tables:\n",
        "  body = table.find('tbody')\n",
        "  rows = body.find_all('tr')\n",
        "  for row in rows:\n",
        "    data = row.find_all('td')\n",
        "    for txt in data:\n",
        "      print(txt.text)\n",
        "    print()"
      ],
      "execution_count": 10,
      "outputs": [
        {
          "output_type": "stream",
          "name": "stdout",
          "text": [
            "Mr. Matthew  Comyn\n",
            "CEO, MD & Exec. Director\n",
            "3.55M\n",
            "N/A\n",
            "1976\n",
            "\n",
            "Mr. Alan  Docherty\n",
            "Group Exec. of Financial Services & CFO\n",
            "1.54M\n",
            "N/A\n",
            "N/A\n",
            "\n",
            "Mr. Pascall  Boillat\n",
            "Chief Information Officer & Group Exec. of Enterprise Services\n",
            "2.86M\n",
            "N/A\n",
            "N/A\n",
            "\n",
            "Ms. Sian  Lewis\n",
            "Group Exec. of HR\n",
            "1.29M\n",
            "N/A\n",
            "N/A\n",
            "\n",
            "Mr. David Antony Keith Cohen B.A., L.L.B.\n",
            "Deputy Chief Exec. Officer\n",
            "1.85M\n",
            "N/A\n",
            "N/A\n",
            "\n",
            "Mr. Nigel  Williams\n",
            "Group Chief Risk Officer\n",
            "2.04M\n",
            "N/A\n",
            "N/A\n",
            "\n",
            "Ms. Vittoria Annabel June Shortt BMS, CA\n",
            "Chief Exec. & MD of ASB Bank Ltd.\n",
            "1.48M\n",
            "N/A\n",
            "N/A\n",
            "\n",
            "Mr. Mike  Vacy-Lyle\n",
            "Group Exec. of Bus. & Private Banking\n",
            "1.69M\n",
            "N/A\n",
            "N/A\n",
            "\n",
            "Hanh  Nguyen\n",
            "Chief Representative and Director of Investment & Banking\n",
            "N/A\n",
            "N/A\n",
            "N/A\n",
            "\n",
            "Melanie  Kirk\n",
            "Head of Investor Relations\n",
            "N/A\n",
            "N/A\n",
            "N/A\n",
            "\n"
          ]
        }
      ]
    }
  ]
}