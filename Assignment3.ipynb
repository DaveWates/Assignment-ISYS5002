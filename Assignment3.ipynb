{
  "nbformat": 4,
  "nbformat_minor": 0,
  "metadata": {
    "colab": {
      "name": "Assignment3.ipynb",
      "provenance": [],
      "collapsed_sections": [],
      "authorship_tag": "ABX9TyNb7vyKep+vy8hJHMsgneeK",
      "include_colab_link": true
    },
    "kernelspec": {
      "name": "python3",
      "display_name": "Python 3"
    },
    "language_info": {
      "name": "python"
    }
  },
  "cells": [
    {
      "cell_type": "markdown",
      "metadata": {
        "id": "view-in-github",
        "colab_type": "text"
      },
      "source": [
        "<a href=\"https://colab.research.google.com/github/DaveWates/Assignment-ISYS5002/blob/main/Assignment3.ipynb\" target=\"_parent\"><img src=\"https://colab.research.google.com/assets/colab-badge.svg\" alt=\"Open In Colab\"/></a>"
      ]
    },
    {
      "cell_type": "markdown",
      "metadata": {
        "id": "C0KJb75b9V1p"
      },
      "source": [
        "**This Program determines the salary of key executive personnel of companies whereby a user  provides a stock market ticker. (I have chosen the major Australian Banks as a test sample). It will then calculate the tax payable on the reported income.** \n",
        "\n",
        "**The ticker is input in Yahoo Finance link https://finance.yahoo.com/?fr=sycsrp_catchall where the URL link for the company profile page may be sourced.** "
      ]
    },
    {
      "cell_type": "markdown",
      "metadata": {
        "id": "MXEg5Eo3-Ygs"
      },
      "source": [
        "**1. Load the packages**\n"
      ]
    },
    {
      "cell_type": "code",
      "metadata": {
        "id": "pgG6yYGe6_8G"
      },
      "source": [
        "!pip install kora -q\n",
        "from kora.selenium import wd\n",
        "from bs4 import BeautifulSoup"
      ],
      "execution_count": null,
      "outputs": []
    },
    {
      "cell_type": "markdown",
      "metadata": {
        "id": "kbdfpc35HcCm"
      },
      "source": [
        "**2.Prompt the user for the ticker and locate the URL from Yahoo Finance.**"
      ]
    },
    {
      "cell_type": "code",
      "metadata": {
        "colab": {
          "base_uri": "https://localhost:8080/"
        },
        "id": "iCR1zDSM7FRT",
        "outputId": "b3dcc8c5-6137-4b8c-9607-65985816e31a"
      },
      "source": [
        "#Prompt user for Bank\n",
        "bank = input('Which bank do you want to search?;choose from ANZ, CBA, NAB, WBC = ')\n",
        "\n",
        "urls = ('https://finance.yahoo.com/quote/ANZ.AX/profile?p=ANZ.AX',\n",
        "       'https://finance.yahoo.com/quote/CBA.AX/profile?p=CBA.AX',\n",
        "       'https://finance.yahoo.com/quote/NAB.AX/profile?p=NAB.AX',\n",
        "       'https://finance.yahoo.com/quote/WBC.AX/profile?p=WBC.AX')\n",
        "\n",
        "def get_url():\n",
        "  for url in urls:\n",
        "   if bank == 'ANZ':\n",
        "    return (urls[0])\n",
        "   if bank == 'CBA':\n",
        "    return (urls[1])\n",
        "   if bank == 'NAB':\n",
        "    return (urls[2])\n",
        "   if bank == 'WBC':\n",
        "    return (urls[3])\n",
        "\n",
        "print('The url required is', get_url())\n",
        "\n"
      ],
      "execution_count": null,
      "outputs": [
        {
          "output_type": "stream",
          "name": "stdout",
          "text": [
            "Which bank do you want to search?;choose from ANZ, CBA, NAB, WBC = WBC\n",
            "The url required is https://finance.yahoo.com/quote/WBC.AX/profile?p=WBC.AX\n"
          ]
        }
      ]
    },
    {
      "cell_type": "markdown",
      "metadata": {
        "id": "WKjN1QBaHtRy"
      },
      "source": [
        "**3. Use the related URL to scrape the company profile page.**"
      ]
    },
    {
      "cell_type": "code",
      "metadata": {
        "colab": {
          "base_uri": "https://localhost:8080/"
        },
        "id": "ZiOiWc_L7Z80",
        "outputId": "765b1a76-3251-4d57-9a62-27e6e0054ad2"
      },
      "source": [
        "wd.get(get_url())\n",
        "soup = BeautifulSoup(wd.page_source, 'html.parser')\n",
        "tables = soup.find_all('table')\n",
        "for table in tables:\n",
        "  body = table.find('tbody')\n",
        "  rows = body.find_all('tr')\n",
        "  for row in rows:\n",
        "    data = row.find_all('td')\n",
        "    for txt in data:\n",
        "      print(txt.text)\n",
        "    print()"
      ],
      "execution_count": null,
      "outputs": [
        {
          "output_type": "stream",
          "name": "stdout",
          "text": [
            "Mr. Peter Francis King F.C.A., BEc, FCA\n",
            "CEO, MD & Director\n",
            "2.81M\n",
            "N/A\n",
            "1970\n",
            "\n",
            "Mr. Michael  Rowland B.Com., F.C.A.\n",
            "Chief Financial Officer\n",
            "1.22M\n",
            "N/A\n",
            "1962\n",
            "\n",
            "Mr. Leslie Wilson Vance\n",
            "Group Exec. of Financial Crime, Compliance & Conduct\n",
            "1M\n",
            "N/A\n",
            "1971\n",
            "\n",
            "Ms. Rebecca  Lim B Econ, L.L.B., LLB (Hons)\n",
            "Group Gen. Counsel & Enterprise Exec.\n",
            "871.92k\n",
            "N/A\n",
            "1972\n",
            "\n",
            "Ms. Christine  Parker\n",
            "Group Exec. of HR\n",
            "999.8k\n",
            "N/A\n",
            "1960\n",
            "\n",
            "Mr. Jason  Yetton B.Com., BCom, TGMP, GDAppFin\n",
            "Chief Exec. of Specialist Bus.es & Group Strategy\n",
            "1.25M\n",
            "N/A\n",
            "1970\n",
            "\n",
            "Ms. Carolyn  McCann B.A.\n",
            "Group Exec. of Customer & Corp. Relations\n",
            "941k\n",
            "N/A\n",
            "1973\n",
            "\n",
            "Mr. David  Stephen\n",
            "Chief Risk Officer\n",
            "1.89M\n",
            "N/A\n",
            "1965\n",
            "\n",
            "Mr. Scott  Collary\n",
            "Chief Operating Officer\n",
            "N/A\n",
            "N/A\n",
            "N/A\n",
            "\n",
            "Mr. Andrew  Bowden\n",
            "Head of Investor Relations\n",
            "N/A\n",
            "N/A\n",
            "N/A\n",
            "\n"
          ]
        }
      ]
    },
    {
      "cell_type": "markdown",
      "metadata": {
        "id": "xnIDeiH-QBfb"
      },
      "source": [
        "4. **Manipulate the data for ease of reference using Pandas.**"
      ]
    },
    {
      "cell_type": "code",
      "metadata": {
        "id": "dhDYw2YNPx_j"
      },
      "source": [
        "import pandas as pd\n"
      ],
      "execution_count": 193,
      "outputs": []
    },
    {
      "cell_type": "code",
      "metadata": {
        "colab": {
          "base_uri": "https://localhost:8080/",
          "height": 297
        },
        "id": "tN7fgB7AMNx7",
        "outputId": "2185c2e0-4712-488b-a302-165b0b670d91"
      },
      "source": [
        "# Creating a data frame df.\n",
        "df = pd.DataFrame({'NAME':['Peter Francis King', 'Michael  Rowland', 'Leslie Wilson Vance', 'Rebecca  Lim','Christine  Parker','Jason  Yetton','Carolyn  McCann','David  Stephen'],'SALARY':[2810000, 1220000, 1000000, 871920,999800,1250000,941000,1890000]})\n",
        "# Head displays only the executives with reported income from the data frame.\n",
        "df.head(10)"
      ],
      "execution_count": 194,
      "outputs": [
        {
          "output_type": "execute_result",
          "data": {
            "text/html": [
              "<div>\n",
              "<style scoped>\n",
              "    .dataframe tbody tr th:only-of-type {\n",
              "        vertical-align: middle;\n",
              "    }\n",
              "\n",
              "    .dataframe tbody tr th {\n",
              "        vertical-align: top;\n",
              "    }\n",
              "\n",
              "    .dataframe thead th {\n",
              "        text-align: right;\n",
              "    }\n",
              "</style>\n",
              "<table border=\"1\" class=\"dataframe\">\n",
              "  <thead>\n",
              "    <tr style=\"text-align: right;\">\n",
              "      <th></th>\n",
              "      <th>NAME</th>\n",
              "      <th>SALARY</th>\n",
              "    </tr>\n",
              "  </thead>\n",
              "  <tbody>\n",
              "    <tr>\n",
              "      <th>0</th>\n",
              "      <td>Peter Francis King</td>\n",
              "      <td>2810000</td>\n",
              "    </tr>\n",
              "    <tr>\n",
              "      <th>1</th>\n",
              "      <td>Michael  Rowland</td>\n",
              "      <td>1220000</td>\n",
              "    </tr>\n",
              "    <tr>\n",
              "      <th>2</th>\n",
              "      <td>Leslie Wilson Vance</td>\n",
              "      <td>1000000</td>\n",
              "    </tr>\n",
              "    <tr>\n",
              "      <th>3</th>\n",
              "      <td>Rebecca  Lim</td>\n",
              "      <td>871920</td>\n",
              "    </tr>\n",
              "    <tr>\n",
              "      <th>4</th>\n",
              "      <td>Christine  Parker</td>\n",
              "      <td>999800</td>\n",
              "    </tr>\n",
              "    <tr>\n",
              "      <th>5</th>\n",
              "      <td>Jason  Yetton</td>\n",
              "      <td>1250000</td>\n",
              "    </tr>\n",
              "    <tr>\n",
              "      <th>6</th>\n",
              "      <td>Carolyn  McCann</td>\n",
              "      <td>941000</td>\n",
              "    </tr>\n",
              "    <tr>\n",
              "      <th>7</th>\n",
              "      <td>David  Stephen</td>\n",
              "      <td>1890000</td>\n",
              "    </tr>\n",
              "  </tbody>\n",
              "</table>\n",
              "</div>"
            ],
            "text/plain": [
              "                  NAME   SALARY\n",
              "0   Peter Francis King  2810000\n",
              "1     Michael  Rowland  1220000\n",
              "2  Leslie Wilson Vance  1000000\n",
              "3         Rebecca  Lim   871920\n",
              "4    Christine  Parker   999800\n",
              "5        Jason  Yetton  1250000\n",
              "6      Carolyn  McCann   941000\n",
              "7       David  Stephen  1890000"
            ]
          },
          "metadata": {},
          "execution_count": 194
        }
      ]
    },
    {
      "cell_type": "markdown",
      "metadata": {
        "id": "NHWJsXCYSKoY"
      },
      "source": [
        "**5. Determine tax payable on the reported income using the ATO tax rate table.**\n",
        "\n",
        "[Resident tax rates 2021–22\n",
        "Taxable income](https://www.ato.gov.au/rates/individual-income-tax-rates/)\n",
        "\n",
        "Income            | Tax on this income \n",
        "------------------|----------------------\n",
        "0 – \\$18,200       | Nil\n",
        "\\$18,201 – \\$45,000 | 19 cents for each \\$1 over \\$18,200\n",
        "\\$45,001 – \\$120,000 | \\$5,092 plus 32.5 cents for each \\$1 over \\$45,000\n",
        "\\$120,001 – \\$180,000 |  \\$29,467 plus 37 cents for each \\$1 over \\$120,000\n",
        "\\$180,001 and over | \\$51,667 plus 45 cents for each \\$1 over \\$180,000\n",
        "\n"
      ]
    },
    {
      "cell_type": "code",
      "metadata": {
        "id": "kUEJStN3SbXL"
      },
      "source": [
        "# A formula to calculate tax payable based on the above rates"
      ],
      "execution_count": null,
      "outputs": []
    },
    {
      "cell_type": "code",
      "metadata": {
        "id": "Ztl-OosRShVp"
      },
      "source": [
        "def calc_tax(income):\n",
        "  if income <= 18200:\n",
        "    tax = 0\n",
        "  elif 18200 < income <= 45000:\n",
        "    tax = (income - 18200) * 0.19\n",
        "  elif 45000 < income <= 120000:\n",
        "    tax = ((income - 45001) * 0.325) + 5092\n",
        "  elif 120000 < income <= 180000:\n",
        "    tax = ((income - 120001) * 0.37) + 29467\n",
        "  elif 18000 < income: \n",
        "    tax = ((income - 180001) * 0.45) + 51667\n",
        "  return tax"
      ],
      "execution_count": 195,
      "outputs": []
    },
    {
      "cell_type": "code",
      "metadata": {
        "colab": {
          "base_uri": "https://localhost:8080/"
        },
        "id": "SqiB0bYNZQlT",
        "outputId": "fd374832-b573-4052-94ec-e153249241d8"
      },
      "source": [
        "# Match Executive's name with reported salary\n",
        "\n",
        "name = input('Please enter the Executives name from the list above  = ')\n",
        "incomes= ('2810000','1220000','1000000','871920','999800','1250000','941000','1890000')\n",
        "\n",
        "def get_salary_from_name():\n",
        "  for income in incomes:\n",
        "    if name == 'Peter Francis King':\n",
        "     return (salary[0])\n",
        "    if name == 'Michael Rowland':\n",
        "     return (salary[1])\n",
        "    if name == 'Leslie Wilson Vance':\n",
        "     return (salary[2])\n",
        "    if name == 'Rebecca Lim':\n",
        "     return (salary[3]) \n",
        "    if name == 'Christine Parker':\n",
        "     return (salary[4])\n",
        "    if name == 'Jason Yetton':\n",
        "     return (salary[5])\n",
        "    if name == 'Carolyn McCann':\n",
        "     return (salary[6])\n",
        "    if name == 'David Stephen':\n",
        "     return (salary[7])\n",
        "\n",
        "print(\"The taxable salary is\", get_salary_from_name())\n",
        "income = int(get_salary_from_name())\n",
        "tax = calc_tax(income)\n",
        "print (\"The tax payable on your income is\",tax)"
      ],
      "execution_count": 249,
      "outputs": [
        {
          "output_type": "stream",
          "name": "stdout",
          "text": [
            "Please enter the Executives name from the list above  = Michael Rowland\n",
            "The taxable salary is 1220000\n",
            "The tax payable on your income is 519666.55\n"
          ]
        }
      ]
    }
  ]
}