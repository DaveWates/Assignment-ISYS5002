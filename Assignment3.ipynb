{
  "nbformat": 4,
  "nbformat_minor": 0,
  "metadata": {
    "colab": {
      "name": "Assignment3.ipynb",
      "provenance": [],
      "collapsed_sections": [],
      "authorship_tag": "ABX9TyPUAtlOJJVKBm7kBdQFkp63",
      "include_colab_link": true
    },
    "kernelspec": {
      "name": "python3",
      "display_name": "Python 3"
    },
    "language_info": {
      "name": "python"
    }
  },
  "cells": [
    {
      "cell_type": "markdown",
      "metadata": {
        "id": "view-in-github",
        "colab_type": "text"
      },
      "source": [
        "<a href=\"https://colab.research.google.com/github/DaveWates/Assignment-ISYS5002/blob/main/Assignment3.ipynb\" target=\"_parent\"><img src=\"https://colab.research.google.com/assets/colab-badge.svg\" alt=\"Open In Colab\"/></a>"
      ]
    },
    {
      "cell_type": "markdown",
      "metadata": {
        "id": "C0KJb75b9V1p"
      },
      "source": [
        "**This Program determines the salary of key executive personnel of companies whereby a user  provides a stock market ticker. (I have chosen the major Australian Banks as a test sample). It will then calculate the tax payable on the reported income.** \n",
        "\n",
        "**The ticker is input in Yahoo Finance link https://finance.yahoo.com/?fr=sycsrp_catchall where the URL link for the company profile page may be sorced.** **bold text** "
      ]
    },
    {
      "cell_type": "markdown",
      "metadata": {
        "id": "MXEg5Eo3-Ygs"
      },
      "source": [
        "**1. Load the packages**\n"
      ]
    },
    {
      "cell_type": "markdown",
      "metadata": {
        "id": "cQOCru0LGCan"
      },
      "source": [
        ""
      ]
    },
    {
      "cell_type": "code",
      "metadata": {
        "id": "ydqIZ-o2_xG7"
      },
      "source": [
        ""
      ],
      "execution_count": null,
      "outputs": []
    },
    {
      "cell_type": "code",
      "metadata": {
        "id": "pgG6yYGe6_8G"
      },
      "source": [
        "!pip install kora -q\n",
        "from kora.selenium import wd\n",
        "from bs4 import BeautifulSoup"
      ],
      "execution_count": 1,
      "outputs": []
    },
    {
      "cell_type": "markdown",
      "metadata": {
        "id": "kbdfpc35HcCm"
      },
      "source": [
        "**2.Prompt the user for the ticker and locate the URL from Yahoo Finance.**"
      ]
    },
    {
      "cell_type": "code",
      "metadata": {
        "colab": {
          "base_uri": "https://localhost:8080/"
        },
        "id": "iCR1zDSM7FRT",
        "outputId": "b3dcc8c5-6137-4b8c-9607-65985816e31a"
      },
      "source": [
        "#Prompt user for Bank\n",
        "bank = input('Which bank do you want to search?;choose from ANZ, CBA, NAB, WBC = ')\n",
        "\n",
        "urls = ('https://finance.yahoo.com/quote/ANZ.AX/profile?p=ANZ.AX',\n",
        "       'https://finance.yahoo.com/quote/CBA.AX/profile?p=CBA.AX',\n",
        "       'https://finance.yahoo.com/quote/NAB.AX/profile?p=NAB.AX',\n",
        "       'https://finance.yahoo.com/quote/WBC.AX/profile?p=WBC.AX')\n",
        "\n",
        "def get_url():\n",
        "  for url in urls:\n",
        "   if bank == 'ANZ':\n",
        "    return (urls[0])\n",
        "   if bank == 'CBA':\n",
        "    return (urls[1])\n",
        "   if bank == 'NAB':\n",
        "    return (urls[2])\n",
        "   if bank == 'WBC':\n",
        "    return (urls[3])\n",
        "\n",
        "print('The url required is', get_url())\n",
        "\n"
      ],
      "execution_count": 2,
      "outputs": [
        {
          "output_type": "stream",
          "name": "stdout",
          "text": [
            "Which bank do you want to search?;choose from ANZ, CBA, NAB, WBC = WBC\n",
            "The url required is https://finance.yahoo.com/quote/WBC.AX/profile?p=WBC.AX\n"
          ]
        }
      ]
    },
    {
      "cell_type": "markdown",
      "metadata": {
        "id": "WKjN1QBaHtRy"
      },
      "source": [
        "**3. Use the related URL to scrape the company profile page.**"
      ]
    },
    {
      "cell_type": "code",
      "metadata": {
        "colab": {
          "base_uri": "https://localhost:8080/"
        },
        "id": "ZiOiWc_L7Z80",
        "outputId": "765b1a76-3251-4d57-9a62-27e6e0054ad2"
      },
      "source": [
        "wd.get(get_url())\n",
        "soup = BeautifulSoup(wd.page_source, 'html.parser')\n",
        "tables = soup.find_all('table')\n",
        "for table in tables:\n",
        "  body = table.find('tbody')\n",
        "  rows = body.find_all('tr')\n",
        "  for row in rows:\n",
        "    data = row.find_all('td')\n",
        "    for txt in data:\n",
        "      print(txt.text)\n",
        "    print()"
      ],
      "execution_count": 3,
      "outputs": [
        {
          "output_type": "stream",
          "name": "stdout",
          "text": [
            "Mr. Peter Francis King F.C.A., BEc, FCA\n",
            "CEO, MD & Director\n",
            "2.81M\n",
            "N/A\n",
            "1970\n",
            "\n",
            "Mr. Michael  Rowland B.Com., F.C.A.\n",
            "Chief Financial Officer\n",
            "1.22M\n",
            "N/A\n",
            "1962\n",
            "\n",
            "Mr. Leslie Wilson Vance\n",
            "Group Exec. of Financial Crime, Compliance & Conduct\n",
            "1M\n",
            "N/A\n",
            "1971\n",
            "\n",
            "Ms. Rebecca  Lim B Econ, L.L.B., LLB (Hons)\n",
            "Group Gen. Counsel & Enterprise Exec.\n",
            "871.92k\n",
            "N/A\n",
            "1972\n",
            "\n",
            "Ms. Christine  Parker\n",
            "Group Exec. of HR\n",
            "999.8k\n",
            "N/A\n",
            "1960\n",
            "\n",
            "Mr. Jason  Yetton B.Com., BCom, TGMP, GDAppFin\n",
            "Chief Exec. of Specialist Bus.es & Group Strategy\n",
            "1.25M\n",
            "N/A\n",
            "1970\n",
            "\n",
            "Ms. Carolyn  McCann B.A.\n",
            "Group Exec. of Customer & Corp. Relations\n",
            "941k\n",
            "N/A\n",
            "1973\n",
            "\n",
            "Mr. David  Stephen\n",
            "Chief Risk Officer\n",
            "1.89M\n",
            "N/A\n",
            "1965\n",
            "\n",
            "Mr. Scott  Collary\n",
            "Chief Operating Officer\n",
            "N/A\n",
            "N/A\n",
            "N/A\n",
            "\n",
            "Mr. Andrew  Bowden\n",
            "Head of Investor Relations\n",
            "N/A\n",
            "N/A\n",
            "N/A\n",
            "\n"
          ]
        }
      ]
    },
    {
      "cell_type": "markdown",
      "metadata": {
        "id": "xnIDeiH-QBfb"
      },
      "source": [
        "4. **Manipulate the data for ease of reference**"
      ]
    },
    {
      "cell_type": "code",
      "metadata": {
        "id": "dhDYw2YNPx_j"
      },
      "source": [
        "import pandas as pd\n"
      ],
      "execution_count": 6,
      "outputs": []
    },
    {
      "cell_type": "code",
      "metadata": {
        "colab": {
          "base_uri": "https://localhost:8080/",
          "height": 204
        },
        "id": "tN7fgB7AMNx7",
        "outputId": "4d45c322-56e1-4072-8d8a-db1b0b4d91b6"
      },
      "source": [
        "# Creating a data frame df.\n",
        "df = pd.DataFrame({'Name':['Peter Francis King', 'Michael  Rowland', 'Leslie Wilson Vance', 'Rebecca  Lim','Christine  Parker','Jason  Yetton','Ms. Carolyn  McCann','Mr. David  Stephen'],'Salary':[2810000, 1220000, 1000000, 871920,999800,1250000,941000,1890000]})\n",
        "# Head displays only the executives with reported income from the data frame.\n",
        "df.head()"
      ],
      "execution_count": 7,
      "outputs": [
        {
          "output_type": "execute_result",
          "data": {
            "text/html": [
              "<div>\n",
              "<style scoped>\n",
              "    .dataframe tbody tr th:only-of-type {\n",
              "        vertical-align: middle;\n",
              "    }\n",
              "\n",
              "    .dataframe tbody tr th {\n",
              "        vertical-align: top;\n",
              "    }\n",
              "\n",
              "    .dataframe thead th {\n",
              "        text-align: right;\n",
              "    }\n",
              "</style>\n",
              "<table border=\"1\" class=\"dataframe\">\n",
              "  <thead>\n",
              "    <tr style=\"text-align: right;\">\n",
              "      <th></th>\n",
              "      <th>Name</th>\n",
              "      <th>Salary</th>\n",
              "    </tr>\n",
              "  </thead>\n",
              "  <tbody>\n",
              "    <tr>\n",
              "      <th>0</th>\n",
              "      <td>Peter Francis King</td>\n",
              "      <td>2810000</td>\n",
              "    </tr>\n",
              "    <tr>\n",
              "      <th>1</th>\n",
              "      <td>Michael  Rowland</td>\n",
              "      <td>1220000</td>\n",
              "    </tr>\n",
              "    <tr>\n",
              "      <th>2</th>\n",
              "      <td>Leslie Wilson Vance</td>\n",
              "      <td>1000000</td>\n",
              "    </tr>\n",
              "    <tr>\n",
              "      <th>3</th>\n",
              "      <td>Rebecca  Lim</td>\n",
              "      <td>871920</td>\n",
              "    </tr>\n",
              "    <tr>\n",
              "      <th>4</th>\n",
              "      <td>Christine  Parker</td>\n",
              "      <td>999800</td>\n",
              "    </tr>\n",
              "  </tbody>\n",
              "</table>\n",
              "</div>"
            ],
            "text/plain": [
              "                  Name   Salary\n",
              "0   Peter Francis King  2810000\n",
              "1     Michael  Rowland  1220000\n",
              "2  Leslie Wilson Vance  1000000\n",
              "3         Rebecca  Lim   871920\n",
              "4    Christine  Parker   999800"
            ]
          },
          "metadata": {},
          "execution_count": 7
        }
      ]
    }
  ]
}