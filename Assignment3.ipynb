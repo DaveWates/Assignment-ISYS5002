{
  "nbformat": 4,
  "nbformat_minor": 0,
  "metadata": {
    "colab": {
      "name": "Assignment3.ipynb",
      "provenance": [],
      "collapsed_sections": [],
      "authorship_tag": "ABX9TyPyoD+DtPWsMk7RPd1wNlHI",
      "include_colab_link": true
    },
    "kernelspec": {
      "name": "python3",
      "display_name": "Python 3"
    },
    "language_info": {
      "name": "python"
    }
  },
  "cells": [
    {
      "cell_type": "markdown",
      "metadata": {
        "id": "view-in-github",
        "colab_type": "text"
      },
      "source": [
        "<a href=\"https://colab.research.google.com/github/DaveWates/Assignment-ISYS5002/blob/main/Assignment3.ipynb\" target=\"_parent\"><img src=\"https://colab.research.google.com/assets/colab-badge.svg\" alt=\"Open In Colab\"/></a>"
      ]
    },
    {
      "cell_type": "code",
      "metadata": {
        "colab": {
          "base_uri": "https://localhost:8080/"
        },
        "id": "pgG6yYGe6_8G",
        "outputId": "11b9e107-fde9-49ee-9603-d05feb07455a"
      },
      "source": [
        "!pip install kora -q\n",
        "from kora.selenium import wd\n",
        "from bs4 import BeautifulSoup"
      ],
      "execution_count": 1,
      "outputs": [
        {
          "output_type": "stream",
          "name": "stdout",
          "text": [
            "\u001b[?25l\r\u001b[K     |█████▊                          | 10 kB 22.0 MB/s eta 0:00:01\r\u001b[K     |███████████▍                    | 20 kB 28.4 MB/s eta 0:00:01\r\u001b[K     |█████████████████               | 30 kB 13.2 MB/s eta 0:00:01\r\u001b[K     |██████████████████████▊         | 40 kB 9.5 MB/s eta 0:00:01\r\u001b[K     |████████████████████████████▍   | 51 kB 5.1 MB/s eta 0:00:01\r\u001b[K     |████████████████████████████████| 57 kB 2.8 MB/s \n",
            "\u001b[?25h\u001b[?25l\r\u001b[K     |█████▉                          | 10 kB 27.4 MB/s eta 0:00:01\r\u001b[K     |███████████▊                    | 20 kB 37.6 MB/s eta 0:00:01\r\u001b[K     |█████████████████▌              | 30 kB 41.9 MB/s eta 0:00:01\r\u001b[K     |███████████████████████▍        | 40 kB 47.3 MB/s eta 0:00:01\r\u001b[K     |█████████████████████████████▎  | 51 kB 48.8 MB/s eta 0:00:01\r\u001b[K     |████████████████████████████████| 56 kB 3.6 MB/s \n",
            "\u001b[?25h"
          ]
        }
      ]
    },
    {
      "cell_type": "code",
      "metadata": {
        "colab": {
          "base_uri": "https://localhost:8080/"
        },
        "id": "iCR1zDSM7FRT",
        "outputId": "39126fff-65bb-49dc-ca54-1c3211682100"
      },
      "source": [
        "#Prompt user for Bank\n",
        "bank = input('Which bank do you want to search?;choose from ANZ, CBA, NAB, WBC = ')\n",
        "\n",
        "urls = ('https://finance.yahoo.com/quote/ANZ.AX/profile?p=ANZ.AX',\n",
        "       'https://finance.yahoo.com/quote/CBA.AX/profile?p=CBA.AX',\n",
        "       'https://finance.yahoo.com/quote/NAB.AX/profile?p=NAB.AX',\n",
        "       'https://finance.yahoo.com/quote/WBC.AX/profile?p=WBC.AX')\n",
        "\n",
        "def get_url():\n",
        "  for url in urls:\n",
        "   if bank == 'ANZ':\n",
        "    return (urls[0])\n",
        "   if bank == 'CBA':\n",
        "    return (urls[1])\n",
        "   if bank == 'NAB':\n",
        "    return (urls[2])\n",
        "   if bank == 'WBC':\n",
        "    return (urls[3])\n",
        "\n",
        "print('The url required is', get_url())\n",
        "\n"
      ],
      "execution_count": 7,
      "outputs": [
        {
          "output_type": "stream",
          "name": "stdout",
          "text": [
            "Which bank do you want to search?;choose from ANZ, CBA, NAB, WBC = NAB\n",
            "The url required is https://finance.yahoo.com/quote/NAB.AX/profile?p=NAB.AX\n"
          ]
        }
      ]
    },
    {
      "cell_type": "code",
      "metadata": {
        "colab": {
          "base_uri": "https://localhost:8080/"
        },
        "id": "ZiOiWc_L7Z80",
        "outputId": "ef2a8740-80ad-4cdc-e4a7-8cffd106513d"
      },
      "source": [
        "wd.get(get_url())\n",
        "soup = BeautifulSoup(wd.page_source, 'html.parser')\n",
        "tables = soup.find_all('table')\n",
        "for table in tables:\n",
        "  body = table.find('tbody')\n",
        "  rows = body.find_all('tr')\n",
        "  for row in rows:\n",
        "    data = row.find_all('td')\n",
        "    for txt in data:\n",
        "      print(txt.text)\n",
        "    print()"
      ],
      "execution_count": 8,
      "outputs": [
        {
          "output_type": "stream",
          "name": "stdout",
          "text": [
            "Mr. Ross Maxwell McEwan CBE, B.B.S.\n",
            "Group CEO, MD & Director\n",
            "2.54M\n",
            "N/A\n",
            "1957\n",
            "\n",
            "Mr. Gary Andrew Lennon BEC, F.C.A., BEc (Hons), FCA\n",
            "Group Chief Financial Officer\n",
            "1.13M\n",
            "N/A\n",
            "N/A\n",
            "\n",
            "Mr. Patrick F. Wright\n",
            "Group Exec. of Technology & Enterprise Operations\n",
            "1.72M\n",
            "N/A\n",
            "1967\n",
            "\n",
            "Ms. Sharon J. Cook\n",
            "Group Exec. of Legal & Commercial Services\n",
            "912.98k\n",
            "N/A\n",
            "N/A\n",
            "\n",
            "Ms. Susan  Ferrier\n",
            "Group Exec. of People & Culture\n",
            "929.27k\n",
            "N/A\n",
            "N/A\n",
            "\n",
            "Mr. Shaun  Dooley\n",
            "Chief Risk Officer\n",
            "1.05M\n",
            "N/A\n",
            "N/A\n",
            "\n",
            "Mr. Andrew  Irvine\n",
            "Chief Exec. of Bus. Private Banking Division\n",
            "333.27k\n",
            "N/A\n",
            "N/A\n",
            "\n",
            "Mr. Lesile D. Matheson\n",
            "Group Chief Operating Officer\n",
            "N/A\n",
            "N/A\n",
            "1960\n",
            "\n",
            "Ms. Sally  Mihell\n",
            "Head of Investor Relations\n",
            "N/A\n",
            "N/A\n",
            "N/A\n",
            "\n",
            "Mark  Alexander\n",
            "Gen. Mang. of Corp. Communications\n",
            "N/A\n",
            "N/A\n",
            "N/A\n",
            "\n"
          ]
        }
      ]
    }
  ]
}