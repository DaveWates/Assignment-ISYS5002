{
  "nbformat": 4,
  "nbformat_minor": 0,
  "metadata": {
    "colab": {
      "name": "Assignment6.ipynb",
      "provenance": [],
      "collapsed_sections": [],
      "authorship_tag": "ABX9TyP8RGctQF4W/IV9KLQQjOVT",
      "include_colab_link": true
    },
    "kernelspec": {
      "name": "python3",
      "display_name": "Python 3"
    },
    "language_info": {
      "name": "python"
    }
  },
  "cells": [
    {
      "cell_type": "markdown",
      "metadata": {
        "id": "view-in-github",
        "colab_type": "text"
      },
      "source": [
        "<a href=\"https://colab.research.google.com/github/DaveWates/Assignment-ISYS5002/blob/main/Assignment6.ipynb\" target=\"_parent\"><img src=\"https://colab.research.google.com/assets/colab-badge.svg\" alt=\"Open In Colab\"/></a>"
      ]
    },
    {
      "cell_type": "code",
      "metadata": {
        "id": "bSvI_Ptdt20A"
      },
      "source": [
        ""
      ],
      "execution_count": null,
      "outputs": []
    },
    {
      "cell_type": "markdown",
      "metadata": {
        "id": "FtMYsMAcxSIz"
      },
      "source": [
        "**INTRODUCTION:**"
      ]
    },
    {
      "cell_type": "markdown",
      "metadata": {
        "id": "U_umahZQt35P"
      },
      "source": [
        "The meeting today with the client established the parameters for the project.\n",
        "\n",
        "\n",
        "The ATO has enlisted our services to design a program which will web-scrape financial data in the form of Executive Sarlaries from Australian companies, and calculate the tax payable on those salaries. \n",
        "\n",
        "The program must execute on the input of a stock ticker symbol.\n",
        "\n",
        "\n",
        "For ease of reference they have specified the program is to be saved as either (or both) a CSV or SQL-lite file.\n",
        "\n",
        "\n",
        "The results will used by the department, for the purposes of an expeditious comparison with historical data, to decide whether there are grounds for further investigation."
      ]
    },
    {
      "cell_type": "markdown",
      "metadata": {
        "id": "JjnM4j4XxkQJ"
      },
      "source": [
        "**METHODOLOGY:**"
      ]
    },
    {
      "cell_type": "markdown",
      "metadata": {
        "id": "dUfaEyBRydf_"
      },
      "source": [
        "The process we will implore is initially the standard steps:\n",
        "\n",
        "\n",
        "1.   State the problem clearly\n",
        "2. Describe the input and output\n",
        "3. Work a simple example by hand\n",
        "4. Develop an algorithm (and convert into Python)\n",
        "5. Test solution with a variety of data\n",
        "\n",
        "\n",
        "\n",
        "\n",
        "\n",
        "\n",
        "\n"
      ]
    },
    {
      "cell_type": "markdown",
      "metadata": {
        "id": "Gq-ecsvSxRhV"
      },
      "source": [
        ""
      ]
    },
    {
      "cell_type": "markdown",
      "metadata": {
        "id": "PXtRtL1Lv28D"
      },
      "source": [
        ""
      ]
    }
  ]
}