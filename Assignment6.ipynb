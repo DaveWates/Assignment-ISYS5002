{
  "nbformat": 4,
  "nbformat_minor": 0,
  "metadata": {
    "colab": {
      "name": "Assignment6.ipynb",
      "provenance": [],
      "collapsed_sections": [],
      "authorship_tag": "ABX9TyOegkxFoyTpQwHWGTEFhPOb",
      "include_colab_link": true
    },
    "kernelspec": {
      "name": "python3",
      "display_name": "Python 3"
    },
    "language_info": {
      "name": "python"
    }
  },
  "cells": [
    {
      "cell_type": "markdown",
      "metadata": {
        "id": "view-in-github",
        "colab_type": "text"
      },
      "source": [
        "<a href=\"https://colab.research.google.com/github/DaveWates/Assignment-ISYS5002/blob/main/Assignment6.ipynb\" target=\"_parent\"><img src=\"https://colab.research.google.com/assets/colab-badge.svg\" alt=\"Open In Colab\"/></a>"
      ]
    },
    {
      "cell_type": "code",
      "metadata": {
        "id": "bSvI_Ptdt20A"
      },
      "source": [
        ""
      ],
      "execution_count": null,
      "outputs": []
    },
    {
      "cell_type": "markdown",
      "metadata": {
        "id": "FtMYsMAcxSIz"
      },
      "source": [
        "**INTRODUCTION:**"
      ]
    },
    {
      "cell_type": "markdown",
      "metadata": {
        "id": "U_umahZQt35P"
      },
      "source": [
        "The meeting today with the client established the parameters for the project.\n",
        "\n",
        "\n",
        "The ATO has enlisted our services to design a program which will web-scrape financial data in the form of Executive Sarlaries from Australian companies, and calculate the tax payable on those salaries. \n",
        "\n",
        "The program must execute on the input of a stock ticker symbol.\n",
        "\n",
        "\n",
        "For ease of reference the department has specified the program is to be saved as either (or both) a CSV or SQLite file.\n",
        "\n",
        "\n",
        "The results will used by the department, for the purposes of an expeditious comparison with historical data, to decide whether there are grounds for further investigation."
      ]
    },
    {
      "cell_type": "markdown",
      "metadata": {
        "id": "JjnM4j4XxkQJ"
      },
      "source": [
        "**METHODOLOGY:**"
      ]
    },
    {
      "cell_type": "markdown",
      "metadata": {
        "id": "dUfaEyBRydf_"
      },
      "source": [
        "The process we will implore is initially the standard steps:\n",
        "\n",
        "\n",
        "1.   State the problem clearly\n",
        "2. Describe the input and output\n",
        "3. Work a simple example by hand\n",
        "4. Develop an algorithm (and convert into Python)\n",
        "5. Test solution with a variety of data\n",
        "\n",
        "\n",
        "\n",
        "\n",
        "\n",
        "\n",
        "\n"
      ]
    },
    {
      "cell_type": "markdown",
      "metadata": {
        "id": "vo3R8AcbNQVL"
      },
      "source": [
        "**THE PROBLEM:**\n",
        "\n",
        "\n",
        "\n"
      ]
    },
    {
      "cell_type": "markdown",
      "metadata": {
        "id": "Gq-ecsvSxRhV"
      },
      "source": [
        "In the examination of what the results are: A set of data that essentially must include the executives name, their title, their reported income, and the tax payable on that income. Additionally this table must be produced, basically from the input of a stock ticker symbol.\n",
        "\n",
        "There appears to be a set of very distinct subsections which need to be addressed:\n",
        "\n",
        "\n",
        "1.   The definition of a \"stock ticker symbol\".\n",
        "2.   Where and how to obtain the information at 1.\n",
        "3.   Where on the web do we find a list of company executives which\n",
        "     includes the other information required.\n",
        "4.   How do we access or scrape this data from the website.\n",
        "5.   How do we calculate the tax payable.\n",
        "6.   How do we present this data in a user friendly manner.\n",
        "7.   How do we save the data in a CSV or SQLite file format.\n",
        "\n",
        "\n",
        "\n"
      ]
    },
    {
      "cell_type": "markdown",
      "metadata": {
        "id": "PXtRtL1Lv28D"
      },
      "source": [
        "**RESEARCH:**"
      ]
    },
    {
      "cell_type": "markdown",
      "metadata": {
        "id": "NkMAcM_cUYD6"
      },
      "source": [
        "* What is a stock ticker symbol?\n",
        "\n",
        "> \"A ticker symbol or stock symbol is an abbreviation used to uniquely identify publicly traded shares of a particular stock on a particular stock market.\" https://en.wikipedia.org/wiki/Ticker_symbol\n",
        "\n",
        "\n",
        "\n",
        "\n",
        "> The key attributes to take away here is \"a uniuely identifiable   abbreviation\" for a company shares or stocks. And the place or \"particular stock market\" where those shares are traded.\n",
        "\n",
        "\n"
      ]
    },
    {
      "cell_type": "markdown",
      "metadata": {
        "id": "QJuiBDRLVC9y"
      },
      "source": [
        "* Where do we find the information in 1?\n",
        "\n",
        "\n",
        "> \"Go to the home page of a financial news website such as MoneyCentral.MSN.com or a financial investment website such as NYSE.com.\" https://budgeting.thenest.com/stock-symbols-companies-4408.html\n",
        "\n",
        "\n",
        "\n",
        "> With the specification of the New York Stock Echange website above,the Australian equivalent of which I am aware is the Australian Stock Exchange. https://www2.asx.com.au\n",
        "\n",
        "\n",
        "\n",
        "* This leads us to the 3rd question which seeks to identify where on the web can we input a ticker symbol and find the type of information required? \n",
        "\n",
        "> Ask the question what are the best \"Stock market websites\"?\n",
        "\n",
        "> Googles answer:\n",
        "\n",
        "\n",
        ">  https://www.google.com/search?client=safari&rls=en&sxsrf=AOaemvIrSubuGSwrEzmaDXjE5hQ2Fe2p0Q:1634174768611&q=Stock+market+websites&stick=H4sIAAAAAAAAAOOQMRItLslPzlbITSzKTi1RKE9NKs4sSS2OKg7PSIRzFfLT0lKLihWKUhNzFEoyc1MVIJoKS_OBahUy8xQSU1IySzLz8xRK8hXSMvMS85IzgUrzUsuLoUqLUotTE4uSMxQS81IUMjKBgkWZyUAlENnkjMSikuJTjFz6ufoGRkWWhjl5pxg5QZxkw_KyJKiESXK5QbwJlGOcnl5elv2LUTQYm_sbWBgXsWKXusUmyXBjJpfp_LhbziZf5rN015_gNvs6Y4deTet3AEaG86EQAQAA&sa=X&ved=2ahUKEwifudW038jzAhUMzTgGHQQ-Cq0Q4qYDegQINBAH&biw=1254&bih=886&dpr=1\n",
        "\n",
        "\n",
        "> The one I recognise is Yahoo Finance.\n",
        "> https://finance.yahoo.com/?fr=sycsrp_catchall\n",
        "\n",
        "> On examination of the website, the information we are looking for does not become immediately obvious.\n",
        "\n",
        "> If you click in the search cell of the page, quite conveniently a list of trending tickers appears. \n",
        "\n",
        "> If you click on one of the tickers you are transported to a page, which after examination is know as the \"Summary\". \n",
        "\n",
        "> How do we know this? Because directly below where the value of the current share price is displayed, is a sub-menu with Summary underlined in blue.\n",
        "\n",
        "> There are various selectable sections in this sub-menu. With some trial and error the selection of \"Profile\" provides exactly the information we are interested in.\n",
        "\n",
        "\n",
        "> \n",
        "\n",
        "\n",
        "\n",
        "\n",
        "\n"
      ]
    },
    {
      "cell_type": "markdown",
      "metadata": {
        "id": "yMnnmj7TnO3O"
      },
      "source": [
        "**THE INPUTS AND OUTPUTS:**"
      ]
    },
    {
      "cell_type": "markdown",
      "metadata": {
        "id": "WRkEwOkIn5I7"
      },
      "source": [
        "This question has been answered throught the evaluation of the problem:\n",
        "\n",
        "1.   Inputs: Stock ticker symbol\n",
        "2.   Outputs: A set of data that essentially must include the executives name, their title, their reported income, and the tax payable on that income\n",
        "\n"
      ]
    },
    {
      "cell_type": "markdown",
      "metadata": {
        "id": "-U1Th9iTozzA"
      },
      "source": [
        "**WORK A SIMPLE EXAMPLE BY HAND**"
      ]
    },
    {
      "cell_type": "markdown",
      "metadata": {
        "id": "goh9s5PZpdXs"
      },
      "source": [
        "* The starting point must be the capability to access the Profile page of the company for which the ticker symbol has been input."
      ]
    },
    {
      "cell_type": "markdown",
      "metadata": {
        "id": "XK31oCdOpxHs"
      },
      "source": [
        "I have chosen the major Australian Banks as a test sample.\n",
        "\n",
        "The relevant webpage for the ANZ Bank is:\n",
        "https://au.finance.yahoo.com/quote/ANZ.AX/profile?p=ANZ.AX&.tsrc=fin-srch\n",
        "\n",
        "The relevant webpage for the Commonwealth Bank is:\n",
        "https://au.finance.yahoo.com/quote/CBA.AX/profile?p=CBA.AX&.tsrc=fin-srch\n",
        "\n",
        "The relevant webpage for the National Australia Bank is:\n",
        "https://au.finance.yahoo.com/quote/NAB.AX/profile?p=NAB.AX&.tsrc=fin-srch\n",
        "\n",
        "The relevant webpage for the Westpac Bank is:\n",
        "https://au.finance.yahoo.com/quote/WBC.AX/profile?p=WBC.AX&.tsrc=fin-srch"
      ]
    },
    {
      "cell_type": "markdown",
      "metadata": {
        "id": "sqhSkGemrwC_"
      },
      "source": [
        "The interesting points to note on comparison of the webpages is:\n",
        "1.   The ticker for each bank includes .ax (Australian Stock Exchange), and\n",
        "2.   The only way in which the URL's are different, is the ticker symbol as specified in the address.\n",
        "\n",
        "This means that we should be able to supply a ticker, which can then be input into the relevant areas of the URL, which will in turn provide access to the page we want.\n",
        "\n",
        "\n"
      ]
    },
    {
      "cell_type": "code",
      "metadata": {
        "id": "hHD3XRqwtV7P",
        "outputId": "27a4d0a2-9641-4085-f739-84bd87c4289b",
        "colab": {
          "base_uri": "https://localhost:8080/"
        }
      },
      "source": [
        "#By substituting the ticker with curly braces we are creating a dictionary.\n",
        "#A dictionary is a data structure that maps one value to another.\n",
        "#How does this work?\n",
        "#We need the ticker first\n",
        "ticker_symbol = input('What the ticker of the company you like to research?  ')\n",
        "#I have called it template but it could be called anything, and it is the base URL which has the ticker replaced with the braces.\n",
        "template = 'https://au.finance.yahoo.com/quote/{}/profile?p={}&.tsrc=fin-srch'\n",
        "# =To insert the ticker where we want it in the url, we use the format command.\n",
        "url = template.format(ticker_symbol,ticker_symbol)\n",
        "print(url)"
      ],
      "execution_count": 5,
      "outputs": [
        {
          "output_type": "stream",
          "name": "stdout",
          "text": [
            "What the ticker of the company you like to research?  NAB.AX\n",
            "https://au.finance.yahoo.com/quote/NAB.AX/profile?p=NAB.AX&.tsrc=fin-srch\n"
          ]
        }
      ]
    },
    {
      "cell_type": "markdown",
      "metadata": {
        "id": "qzUgJ09_xxmj"
      },
      "source": [
        "Once we are happy that the method works we can turn it into a function, which we can call when it is required.\n",
        "\n"
      ]
    },
    {
      "cell_type": "code",
      "metadata": {
        "id": "SNe5AfteyN96"
      },
      "source": [
        "# Create a function to provide the relevant URL \n",
        "exec_salary_template = ('https://au.finance.yahoo.com/quote/{}/profile?p={}&.tsrc=fin-srch')\n",
        "def get_ticker_symbol():\n",
        " url = exec_salary_template.format(ticker_symbol,ticker_symbol)\n",
        " return url"
      ],
      "execution_count": 8,
      "outputs": []
    },
    {
      "cell_type": "markdown",
      "metadata": {
        "id": "GCm4sus0zUDY"
      },
      "source": [
        "* Next we have to be able to extract the data we need from the url, this is know as scraping."
      ]
    },
    {
      "cell_type": "code",
      "metadata": {
        "id": "K4WqDdoAo9qj"
      },
      "source": [
        ""
      ],
      "execution_count": null,
      "outputs": []
    }
  ]
}