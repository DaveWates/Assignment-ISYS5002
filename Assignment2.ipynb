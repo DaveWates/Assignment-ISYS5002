{
  "nbformat": 4,
  "nbformat_minor": 0,
  "metadata": {
    "colab": {
      "name": "Assignment2.ipynb",
      "provenance": [],
      "collapsed_sections": [],
      "authorship_tag": "ABX9TyMstTmqqbVSuplsA6LNZfNU",
      "include_colab_link": true
    },
    "kernelspec": {
      "name": "python3",
      "display_name": "Python 3"
    },
    "language_info": {
      "name": "python"
    }
  },
  "cells": [
    {
      "cell_type": "markdown",
      "metadata": {
        "id": "view-in-github",
        "colab_type": "text"
      },
      "source": [
        "<a href=\"https://colab.research.google.com/github/DaveWates/Assignment-ISYS5002/blob/main/Assignment2.ipynb\" target=\"_parent\"><img src=\"https://colab.research.google.com/assets/colab-badge.svg\" alt=\"Open In Colab\"/></a>"
      ]
    },
    {
      "cell_type": "code",
      "metadata": {
        "colab": {
          "base_uri": "https://localhost:8080/"
        },
        "id": "I1EvcP45Xe0E",
        "outputId": "49224d5f-bf8e-40ed-ef1b-ce5178677792"
      },
      "source": [
        "!pip install kora -q\n",
        "from kora.selenium import wd\n",
        "from bs4 import BeautifulSoup\n",
        "\n",
        "\n",
        "#Prompt user for Bank\n",
        "bank = input('Which bank do you want to search?;choose from ANZ, CBA, NAB,WBC = ')\n",
        "\n",
        "urls = ('https://finance.yahoo.com/quote/ANZ.AX/profile?p=ANZ.AX',\n",
        "       'https://finance.yahoo.com/quote/CBA.AX/profile?p=CBA.AX',\n",
        "       'https://finance.yahoo.com/quote/NAB.AX/profile?p=NAB.AX',\n",
        "       'https://finance.yahoo.com/quote/WBC.AX/profile?p=WBC.AX')\n",
        "\n",
        "def get_url():\n",
        "  for url in urls:\n",
        "   if bank == 'ANZ':\n",
        "    return (urls[0])\n",
        "   if bank == 'CBA':\n",
        "    return (urls[1])\n",
        "   if bank == 'NAB':\n",
        "    return (urls[2])\n",
        "   if bank == 'WBC':\n",
        "    return (urls[3])\n",
        "\n",
        "print(get_url())\n",
        "  "
      ],
      "execution_count": 15,
      "outputs": [
        {
          "output_type": "stream",
          "name": "stdout",
          "text": [
            "Which bank do you want to search?;choose from ANZ, CBA, NAB,WBC = NAB\n",
            "https://finance.yahoo.com/quote/NAB.AX/profile?p=NAB.AX\n"
          ]
        }
      ]
    },
    {
      "cell_type": "code",
      "metadata": {
        "colab": {
          "base_uri": "https://localhost:8080/"
        },
        "id": "y9_mWotulH_a",
        "outputId": "e3964594-abb2-492c-bde0-631aee7f824e"
      },
      "source": [
        "wd.get('https://finance.yahoo.com/quote/NAB.AX/profile?p=NAB.AX')\n",
        "soup = BeautifulSoup(wd.page_source, 'html.parser')\n",
        "tables = soup.find_all('table')\n",
        "for table in tables:\n",
        "  body = table.find('tbody')\n",
        "  rows = body.find_all('tr')\n",
        "  for row in rows:\n",
        "    data = row.find_all('td')\n",
        "    for txt in data:\n",
        "      print(txt.text)\n",
        "    print()"
      ],
      "execution_count": 17,
      "outputs": [
        {
          "output_type": "stream",
          "name": "stdout",
          "text": [
            "Mr. Ross Maxwell McEwan CBE, B.B.S.\n",
            "Group CEO, MD & Director\n",
            "2.54M\n",
            "N/A\n",
            "1957\n",
            "\n",
            "Mr. Gary Andrew Lennon BEC, F.C.A., BEc (Hons), FCA\n",
            "Group Chief Financial Officer\n",
            "1.13M\n",
            "N/A\n",
            "N/A\n",
            "\n",
            "Mr. Patrick F. Wright\n",
            "Group Exec. of Technology & Enterprise Operations\n",
            "1.72M\n",
            "N/A\n",
            "1967\n",
            "\n",
            "Ms. Sharon J. Cook\n",
            "Group Exec. of Legal & Commercial Services\n",
            "912.98k\n",
            "N/A\n",
            "N/A\n",
            "\n",
            "Ms. Susan  Ferrier\n",
            "Group Exec. of People & Culture\n",
            "929.27k\n",
            "N/A\n",
            "N/A\n",
            "\n",
            "Mr. Shaun  Dooley\n",
            "Chief Risk Officer\n",
            "1.05M\n",
            "N/A\n",
            "N/A\n",
            "\n",
            "Mr. Andrew  Irvine\n",
            "Chief Exec. of Bus. Private Banking Division\n",
            "333.27k\n",
            "N/A\n",
            "N/A\n",
            "\n",
            "Mr. Lesile D. Matheson\n",
            "Group Chief Operating Officer\n",
            "N/A\n",
            "N/A\n",
            "1960\n",
            "\n",
            "Ms. Sally  Mihell\n",
            "Head of Investor Relations\n",
            "N/A\n",
            "N/A\n",
            "N/A\n",
            "\n",
            "Mark  Alexander\n",
            "Gen. Mang. of Corp. Communications\n",
            "N/A\n",
            "N/A\n",
            "N/A\n",
            "\n"
          ]
        }
      ]
    },
    {
      "cell_type": "code",
      "metadata": {
        "id": "rPo9WVNukyvH"
      },
      "source": [
        ""
      ],
      "execution_count": null,
      "outputs": []
    },
    {
      "cell_type": "code",
      "metadata": {
        "id": "6HYvQatekxcJ"
      },
      "source": [
        ""
      ],
      "execution_count": null,
      "outputs": []
    },
    {
      "cell_type": "code",
      "metadata": {
        "id": "GPW6-Eb_wn71"
      },
      "source": [
        "\n"
      ],
      "execution_count": 5,
      "outputs": []
    }
  ]
}