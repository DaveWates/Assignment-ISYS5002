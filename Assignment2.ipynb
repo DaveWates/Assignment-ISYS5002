{
  "nbformat": 4,
  "nbformat_minor": 0,
  "metadata": {
    "colab": {
      "name": "Assignment2.ipynb",
      "provenance": [],
      "collapsed_sections": [],
      "authorship_tag": "ABX9TyNuRbbAF12hwSj46u/NWwZS",
      "include_colab_link": true
    },
    "kernelspec": {
      "name": "python3",
      "display_name": "Python 3"
    },
    "language_info": {
      "name": "python"
    }
  },
  "cells": [
    {
      "cell_type": "markdown",
      "metadata": {
        "id": "view-in-github",
        "colab_type": "text"
      },
      "source": [
        "<a href=\"https://colab.research.google.com/github/DaveWates/Assignment-ISYS5002/blob/main/Assignment2.ipynb\" target=\"_parent\"><img src=\"https://colab.research.google.com/assets/colab-badge.svg\" alt=\"Open In Colab\"/></a>"
      ]
    },
    {
      "cell_type": "code",
      "metadata": {
        "colab": {
          "base_uri": "https://localhost:8080/"
        },
        "id": "I1EvcP45Xe0E",
        "outputId": "edee8b5b-0f36-46d2-d9f8-e8fcdcca7157"
      },
      "source": [
        "!pip install kora -q\n",
        "from kora.selenium import wd\n",
        "from bs4 import BeautifulSoup\n",
        " \n",
        "wd.get('https://au.finance.yahoo.com/quote/AN/profile?p=AN')\n",
        "soup = BeautifulSoup(wd.page_source, 'html.parser')\n",
        "tables = soup.find_all('table')\n",
        "for table in tables:\n",
        "  body = table.find('tbody')\n",
        "  rows = body.find_all('tr')\n",
        "  for row in rows:\n",
        "    data = row.find_all('td')\n",
        "    for txt in data:\n",
        "      print(txt.text)\n",
        "    print()"
      ],
      "execution_count": 1,
      "outputs": [
        {
          "output_type": "stream",
          "name": "stdout",
          "text": [
            "\u001b[?25l\r\u001b[K     |█████▊                          | 10 kB 33.6 MB/s eta 0:00:01\r\u001b[K     |███████████▍                    | 20 kB 24.8 MB/s eta 0:00:01\r\u001b[K     |█████████████████               | 30 kB 11.6 MB/s eta 0:00:01\r\u001b[K     |██████████████████████▊         | 40 kB 9.1 MB/s eta 0:00:01\r\u001b[K     |████████████████████████████▍   | 51 kB 5.2 MB/s eta 0:00:01\r\u001b[K     |████████████████████████████████| 57 kB 3.0 MB/s \n",
            "\u001b[?25h\u001b[?25l\r\u001b[K     |█████▉                          | 10 kB 39.4 MB/s eta 0:00:01\r\u001b[K     |███████████▊                    | 20 kB 41.9 MB/s eta 0:00:01\r\u001b[K     |█████████████████▌              | 30 kB 51.4 MB/s eta 0:00:01\r\u001b[K     |███████████████████████▍        | 40 kB 32.4 MB/s eta 0:00:01\r\u001b[K     |█████████████████████████████▎  | 51 kB 37.0 MB/s eta 0:00:01\r\u001b[K     |████████████████████████████████| 56 kB 4.9 MB/s \n",
            "\u001b[?25hMr. Michael J. Jackson\n",
            "CEO & Exec. Director\n",
            "6.25M\n",
            "1.35M\n",
            "1949\n",
            "\n",
            "Mr. James R. Bender\n",
            "Pres & COO\n",
            "2.47M\n",
            "N/A\n",
            "1956\n",
            "\n",
            "Mr. Joseph T. Lower\n",
            "Exec. VP & CFO\n",
            "1.97M\n",
            "N/A\n",
            "1967\n",
            "\n",
            "Mr. Christopher R. Cade\n",
            "Sr. VP & Chief Accounting Officer\n",
            "870.73k\n",
            "51.44k\n",
            "1967\n",
            "\n",
            "Mr. C. Coleman G. Edmunds\n",
            "Exec. VP, Gen. Counsel & Corp. Sec.\n",
            "1.56M\n",
            "672.29k\n",
            "1965\n",
            "\n",
            "Mr. Marc  Cannon\n",
            "Exec. VP & Chief Customer Experience Officer\n",
            "1.82M\n",
            "242.9k\n",
            "1962\n",
            "\n",
            "Robert  Quartaro\n",
            "VP of Investor Relations\n",
            "N/A\n",
            "N/A\n",
            "N/A\n",
            "\n",
            "Mr. David L. Koehler\n",
            "Eastern Region Pres\n",
            "N/A\n",
            "N/A\n",
            "N/A\n",
            "\n",
            "Mr. Steve  Kwak\n",
            "Pres of Western Region & AutoNation USA\n",
            "N/A\n",
            "N/A\n",
            "N/A\n",
            "\n"
          ]
        }
      ]
    }
  ]
}