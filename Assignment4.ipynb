{
  "nbformat": 4,
  "nbformat_minor": 0,
  "metadata": {
    "colab": {
      "name": "Assignment4.ipynb",
      "provenance": [],
      "collapsed_sections": [],
      "authorship_tag": "ABX9TyMmBmFooxLd+tLQZfx96xgE",
      "include_colab_link": true
    },
    "kernelspec": {
      "name": "python3",
      "display_name": "Python 3"
    },
    "language_info": {
      "name": "python"
    }
  },
  "cells": [
    {
      "cell_type": "markdown",
      "metadata": {
        "id": "view-in-github",
        "colab_type": "text"
      },
      "source": [
        "<a href=\"https://colab.research.google.com/github/DaveWates/Assignment-ISYS5002/blob/main/Assignment4.ipynb\" target=\"_parent\"><img src=\"https://colab.research.google.com/assets/colab-badge.svg\" alt=\"Open In Colab\"/></a>"
      ]
    },
    {
      "cell_type": "markdown",
      "metadata": {
        "id": "mWkGbogfZwM2"
      },
      "source": [
        "**This Program determines the salary of key executive personnel of companies whereby a user provides a stock market ticker. (I have chosen the major Australian Banks as a test sample). It will then calculate the tax payable on the reported income.**\n"
      ]
    },
    {
      "cell_type": "markdown",
      "metadata": {
        "id": "Rzgd7R3maHan"
      },
      "source": [
        "**1. Load the packages**"
      ]
    },
    {
      "cell_type": "code",
      "metadata": {
        "id": "GV4F1HRVH49l",
        "colab": {
          "base_uri": "https://localhost:8080/"
        },
        "outputId": "7f8df800-c4a7-4387-d0c4-17fc0ab20678"
      },
      "source": [
        "!pip install kora -q\n",
        "from kora.selenium import wd\n",
        "from bs4 import BeautifulSoup\n",
        "import pandas as pd\n",
        "import requests"
      ],
      "execution_count": null,
      "outputs": [
        {
          "output_type": "stream",
          "name": "stdout",
          "text": [
            "\u001b[K     |████████████████████████████████| 57 kB 1.6 MB/s \n",
            "\u001b[K     |████████████████████████████████| 56 kB 1.9 MB/s \n",
            "\u001b[?25h"
          ]
        }
      ]
    },
    {
      "cell_type": "code",
      "metadata": {
        "id": "Bg04gORePA2v"
      },
      "source": [
        "# Establish Pattern\n",
        "url = ('https://finance.yahoo.com')\n",
        "wd.get(url)"
      ],
      "execution_count": null,
      "outputs": []
    },
    {
      "cell_type": "markdown",
      "metadata": {
        "id": "A0T97g7QW-4Z"
      },
      "source": [
        "**2. Query the Yahoo Finance website using a format string**. When we look for where in Yahoo finance the salary of the executives is stored, we choose a particular stock ticker symbol and select the profile tab. This then provides the relevant web url for the search. \n",
        "\n",
        "\n",
        "Of course this is specific to the ticker symbol input. In order to apply this across all companies, we use a format string which replaces the particular ticker with curly brackets. Then we issue a command to tell the program to format the url replacing the {} with what ever is input by the user. \n",
        "\n",
        "\n",
        "\n",
        "\n",
        "\n",
        "\n",
        "\n",
        "\n",
        "\n",
        "\n",
        "\n",
        "\n",
        "\n",
        "\n",
        "\n",
        "\n",
        "\n",
        "\n"
      ]
    },
    {
      "cell_type": "code",
      "metadata": {
        "colab": {
          "base_uri": "https://localhost:8080/",
          "height": 215
        },
        "id": "O1gMCodarVQJ",
        "outputId": "314dd7df-a674-46d8-bafc-7ac75f527912"
      },
      "source": [
        "# Work out the URL pattern\n",
        "salary_template = ('https://finance.yahoo.com/quote/{}/profile?p={}')\n",
        "#ticker_symbol = 'User input'\n",
        "ticker_symbol = input('What is the stock ticker symbol for the company you wish to search? ')\n",
        "url = salary_template.format(ticker_symbol,ticker_symbol)\n",
        "print('the url for the search is', get_ticker_symbol())"
      ],
      "execution_count": null,
      "outputs": [
        {
          "name": "stdout",
          "output_type": "stream",
          "text": [
            "What is the stock ticker symbol for the company you wish to search? ANZ.AX\n"
          ]
        },
        {
          "output_type": "error",
          "ename": "NameError",
          "evalue": "ignored",
          "traceback": [
            "\u001b[0;31m---------------------------------------------------------------------------\u001b[0m",
            "\u001b[0;31mNameError\u001b[0m                                 Traceback (most recent call last)",
            "\u001b[0;32m<ipython-input-5-e15dd0743a9d>\u001b[0m in \u001b[0;36m<module>\u001b[0;34m()\u001b[0m\n\u001b[1;32m      4\u001b[0m \u001b[0mticker_symbol\u001b[0m \u001b[0;34m=\u001b[0m \u001b[0minput\u001b[0m\u001b[0;34m(\u001b[0m\u001b[0;34m'What is the stock ticker symbol for the company you wish to search? '\u001b[0m\u001b[0;34m)\u001b[0m\u001b[0;34m\u001b[0m\u001b[0;34m\u001b[0m\u001b[0m\n\u001b[1;32m      5\u001b[0m \u001b[0murl\u001b[0m \u001b[0;34m=\u001b[0m \u001b[0msalary_template\u001b[0m\u001b[0;34m.\u001b[0m\u001b[0mformat\u001b[0m\u001b[0;34m(\u001b[0m\u001b[0mticker_symbol\u001b[0m\u001b[0;34m,\u001b[0m\u001b[0mticker_symbol\u001b[0m\u001b[0;34m)\u001b[0m\u001b[0;34m\u001b[0m\u001b[0;34m\u001b[0m\u001b[0m\n\u001b[0;32m----> 6\u001b[0;31m \u001b[0mprint\u001b[0m\u001b[0;34m(\u001b[0m\u001b[0;34m'the url for the search is'\u001b[0m\u001b[0;34m,\u001b[0m \u001b[0mget_ticker_symbol\u001b[0m\u001b[0;34m(\u001b[0m\u001b[0;34m)\u001b[0m\u001b[0;34m)\u001b[0m\u001b[0;34m\u001b[0m\u001b[0;34m\u001b[0m\u001b[0m\n\u001b[0m",
            "\u001b[0;31mNameError\u001b[0m: name 'get_ticker_symbol' is not defined"
          ]
        }
      ]
    },
    {
      "cell_type": "code",
      "metadata": {
        "colab": {
          "base_uri": "https://localhost:8080/"
        },
        "id": "o7jTdIkFqCyX",
        "outputId": "9300c5bb-3716-403c-c5eb-060002453256"
      },
      "source": [
        "ticker_symbol = input('What is the estock ticker symbol for the company you wish to search? ')"
      ],
      "execution_count": null,
      "outputs": [
        {
          "name": "stdout",
          "output_type": "stream",
          "text": [
            "What is the estock ticker symbol for the company you wish to search? ANZ.AX\n"
          ]
        }
      ]
    },
    {
      "cell_type": "code",
      "metadata": {
        "id": "k1MXBMyEQTbQ"
      },
      "source": [
        "# Create a function to provide the relevant URL \n",
        "salary_template = ('https://finance.yahoo.com/quote/{}/profile?p={}')\n",
        "def get_ticker_symbol():\n",
        " url = salary_template.format(ticker_symbol,ticker_symbol)\n",
        " return url"
      ],
      "execution_count": null,
      "outputs": []
    },
    {
      "cell_type": "code",
      "metadata": {
        "colab": {
          "base_uri": "https://localhost:8080/"
        },
        "id": "Cs02jjDjsxrp",
        "outputId": "c4712d42-e619-42a2-e8ce-750c141bdb00"
      },
      "source": [
        "ticker_symbol = input('What is the estock ticker symbol for the company you wish to search? ')"
      ],
      "execution_count": null,
      "outputs": [
        {
          "name": "stdout",
          "output_type": "stream",
          "text": [
            "What is the estock ticker symbol for the company you wish to search? ANZ.AX\n"
          ]
        }
      ]
    },
    {
      "cell_type": "markdown",
      "metadata": {
        "id": "KJdmy--oeWbZ"
      },
      "source": [
        ""
      ]
    },
    {
      "cell_type": "code",
      "metadata": {
        "colab": {
          "base_uri": "https://localhost:8080/"
        },
        "id": "TKt2kzlPdhg0",
        "outputId": "1e7819b8-5868-410d-e46a-cc7c34d53773"
      },
      "source": [
        "wd.get(get_ticker_symbol())\n",
        "soup = BeautifulSoup(wd.page_source, 'html.parser')\n",
        "table = soup.find('table')\n",
        "body = table.find('tbody')\n",
        "rows = body.find_all('tr')\n",
        "#list_of_records = [] # create a empty list to save/store our records\n",
        "for row in rows:\n",
        "  cols=row.find_all('td')\n",
        "  cols=[x.text.strip() for x in cols]\n",
        "  print(cols[0],cols[2])  \n",
        "  \n",
        "  \n",
        "\n",
        "  # Remember computer start counting form zero, so the 'first' is '0'\n",
        "#record = (cols[0],cols[2])\n",
        "#list_of_records.append(record)\n",
        "  # save the record to our list\n",
        "# lets see if that workd, print out the records\n",
        "\n",
        "#print(list_of_records)\n",
        "\n"
      ],
      "execution_count": null,
      "outputs": [
        {
          "output_type": "stream",
          "name": "stdout",
          "text": [
            "Mr. Shayne Cary Elliott B.Com., B.Com 3.24M\n",
            "Mr. Mark  Whelan 1.59M\n",
            "Mr. Mark  Hand 1.81M\n",
            "Ms. Maile Katherine Carnegie 1.66M\n",
            "Mr. Kevin Paul Corbally 1.57M\n",
            "Mr. Gerard  Florian 1.49M\n",
            "Ms. Kathryn  van der Merwe 1.21M\n",
            "Ms. Antonia Margaret Watson B.Com. 1.38M\n",
            "Mr. Shane M. Buggle N/A\n",
            "Mr. Craig Lioneln Sims MBA N/A\n"
          ]
        }
      ]
    },
    {
      "cell_type": "code",
      "metadata": {
        "id": "P4pNhSnxQvJw"
      },
      "source": [
        ""
      ],
      "execution_count": null,
      "outputs": []
    },
    {
      "cell_type": "code",
      "metadata": {
        "id": "Gju2yR5FgKhU",
        "colab": {
          "base_uri": "https://localhost:8080/"
        },
        "outputId": "fa25e20f-3844-4b68-b75b-59618beb6052"
      },
      "source": [
        "def get_records(soup):\n",
        "  table = soup.find('table')\n",
        "  body = table.find('tbody')\n",
        "  rows = body.find_all('tr')\n",
        "  list_of_records = [] # create a empty list to save/store our records\n",
        "  for row in rows:\n",
        "    for row in rows:\n",
        "     cols=row.find_all('td')\n",
        "     cols=[x.text.strip() for x in cols]\n",
        "     return (cols[0],cols[2])\n",
        "     list_of_records.append(cols[0],cols[2])    \n",
        "    #data = row.find_all('td')\n",
        "    # Remember computer start counting form zero, so the 'first' is '0'\n",
        "    #record = {'name': data[0], 'title': data[1], 'pay': data[2]}\n",
        "    #list_of_records.append(record)  # save the record to our list\n",
        "\n",
        "  #return list_of_records\n",
        "print(list_of_records)\n"
      ],
      "execution_count": null,
      "outputs": [
        {
          "output_type": "stream",
          "name": "stdout",
          "text": [
            "[]\n"
          ]
        }
      ]
    },
    {
      "cell_type": "code",
      "metadata": {
        "id": "4HWgKUH6h9K4"
      },
      "source": [
        "def get_salary(salary_string):\n",
        "   cols[2] = salary_string[-1] \n",
        "   num_part = salary_string[0:-1]\n",
        "   if last_char == 'M':\n",
        "        salary = float(num_part) * 1000000\n",
        "   elif last_char == 'k': \n",
        "        salary = float(num_part) * 1000\n",
        "   else: # Must a N/A entry\n",
        "        salary = 0\n",
        "  "
      ],
      "execution_count": null,
      "outputs": []
    },
    {
      "cell_type": "code",
      "metadata": {
        "id": "LcmWqrpKjwrB"
      },
      "source": [
        "def calc_tax(income):\n",
        "  if income <= 18200:\n",
        "    tax = 0\n",
        "  elif 18200 < income <= 45000:\n",
        "    tax = (income - 18200) * 0.19\n",
        "  elif 45000 < income <= 120000:\n",
        "    tax = ((income - 45001) * 0.325) + 5092\n",
        "  elif 120000 < income <= 180000:\n",
        "    tax = ((income - 120001) * 0.37) + 29467\n",
        "  elif 18000 < income: \n",
        "    tax = ((income - 180001) * 0.45) + 51667\n",
        "  return tax"
      ],
      "execution_count": null,
      "outputs": []
    },
    {
      "cell_type": "code",
      "metadata": {
        "colab": {
          "base_uri": "https://localhost:8080/",
          "height": 232
        },
        "id": "ZkaFjbffjksr",
        "outputId": "67e6912e-d427-4e22-ba4b-745bcedd2815"
      },
      "source": [
        "tax_payable = []\n",
        "salary = cols[2]\n",
        "for salary in get_salary(salary_string):\n",
        "  tax = calc_tax(salary)\n",
        "  tax_payable.append(tax)"
      ],
      "execution_count": null,
      "outputs": [
        {
          "output_type": "error",
          "ename": "NameError",
          "evalue": "ignored",
          "traceback": [
            "\u001b[0;31m---------------------------------------------------------------------------\u001b[0m",
            "\u001b[0;31mNameError\u001b[0m                                 Traceback (most recent call last)",
            "\u001b[0;32m<ipython-input-105-8720ec64dffc>\u001b[0m in \u001b[0;36m<module>\u001b[0;34m()\u001b[0m\n\u001b[1;32m      1\u001b[0m \u001b[0mtax_payable\u001b[0m \u001b[0;34m=\u001b[0m \u001b[0;34m[\u001b[0m\u001b[0;34m]\u001b[0m\u001b[0;34m\u001b[0m\u001b[0;34m\u001b[0m\u001b[0m\n\u001b[1;32m      2\u001b[0m \u001b[0msalary\u001b[0m \u001b[0;34m=\u001b[0m \u001b[0mcols\u001b[0m\u001b[0;34m[\u001b[0m\u001b[0;36m2\u001b[0m\u001b[0;34m]\u001b[0m\u001b[0;34m\u001b[0m\u001b[0;34m\u001b[0m\u001b[0m\n\u001b[0;32m----> 3\u001b[0;31m \u001b[0;32mfor\u001b[0m \u001b[0msalary\u001b[0m \u001b[0;32min\u001b[0m \u001b[0mget_salary\u001b[0m\u001b[0;34m(\u001b[0m\u001b[0msalary_string\u001b[0m\u001b[0;34m)\u001b[0m\u001b[0;34m:\u001b[0m\u001b[0;34m\u001b[0m\u001b[0;34m\u001b[0m\u001b[0m\n\u001b[0m\u001b[1;32m      4\u001b[0m   \u001b[0mtax\u001b[0m \u001b[0;34m=\u001b[0m \u001b[0mcalc_tax\u001b[0m\u001b[0;34m(\u001b[0m\u001b[0msalary\u001b[0m\u001b[0;34m)\u001b[0m\u001b[0;34m\u001b[0m\u001b[0;34m\u001b[0m\u001b[0m\n\u001b[1;32m      5\u001b[0m   \u001b[0mtax_payable\u001b[0m\u001b[0;34m.\u001b[0m\u001b[0mappend\u001b[0m\u001b[0;34m(\u001b[0m\u001b[0mtax\u001b[0m\u001b[0;34m)\u001b[0m\u001b[0;34m\u001b[0m\u001b[0;34m\u001b[0m\u001b[0m\n",
            "\u001b[0;31mNameError\u001b[0m: name 'salary_string' is not defined"
          ]
        }
      ]
    },
    {
      "cell_type": "code",
      "metadata": {
        "id": "VJePrxzcsAZ_",
        "colab": {
          "base_uri": "https://localhost:8080/"
        },
        "outputId": "23c5ba8a-f418-428f-baf2-d8f29edab128"
      },
      "source": [
        "wd.get(get_ticker_symbol())\n",
        "soup = BeautifulSoup(wd.page_source, 'html.parser')\n",
        "table = soup.find('table')\n",
        "#for table_data in soup.find_all('div', {'class': 'content'}):\n",
        "       # print(table_data)\n",
        "\n",
        "\n",
        "#executive_salary = []\n",
        "\n",
        "#df = pd.DataFrame(executive_salary)\n",
        " \n",
        "for row in table.find_all('tr'):\n",
        " for row in rows:\n",
        "    cols=row.find_all('td')\n",
        "    cols=[x.text.strip() for x in cols]\n",
        "    print(cols)      \n",
        "   #data = row.find_all('td')\n",
        "   #row_data = [td.text.strip() for td in data]\n",
        "   \n",
        "   #executive_salary.append(row_data) \n",
        "#print(executive_salary[1])\n",
        "#print(executive_salary[2])  "
      ],
      "execution_count": null,
      "outputs": [
        {
          "output_type": "stream",
          "name": "stdout",
          "text": [
            "['Mr. Shayne Cary Elliott B.Com., B.Com', 'MD, CEO & Exec. Director', '3.24M', 'N/A', '1964']\n",
            "['Mr. Mark  Whelan', 'Group Exec. of Institutional', '1.59M', 'N/A', '1960']\n",
            "['Mr. Mark  Hand', 'Group Exec. Australia Retail & Commercial Banking', '1.81M', 'N/A', '1968']\n",
            "['Ms. Maile Katherine Carnegie', 'Group Exec. of Digital & Australia Transformation', '1.66M', 'N/A', '1970']\n",
            "['Mr. Kevin Paul Corbally', 'Group Chief Risk Officer', '1.57M', 'N/A', '1973']\n",
            "['Mr. Gerard  Florian', 'Group Exec. of Technology', '1.49M', 'N/A', '1966']\n",
            "['Ms. Kathryn  van der Merwe', 'Group Exec. of Talent & Culture and Service Centres', '1.21M', 'N/A', '1974']\n",
            "['Ms. Antonia Margaret Watson B.Com.', 'Chief Exec. Officer of New Zealand', '1.38M', 'N/A', '1969']\n",
            "['Mr. Shane M. Buggle', 'Acting Chief Financial Officer', 'N/A', 'N/A', 'N/A']\n",
            "['Mr. Craig Lioneln Sims MBA', 'Group Gen. Mang. of Operations & Services', 'N/A', 'N/A', 'N/A']\n",
            "['Mr. Shayne Cary Elliott B.Com., B.Com', 'MD, CEO & Exec. Director', '3.24M', 'N/A', '1964']\n",
            "['Mr. Mark  Whelan', 'Group Exec. of Institutional', '1.59M', 'N/A', '1960']\n",
            "['Mr. Mark  Hand', 'Group Exec. Australia Retail & Commercial Banking', '1.81M', 'N/A', '1968']\n",
            "['Ms. Maile Katherine Carnegie', 'Group Exec. of Digital & Australia Transformation', '1.66M', 'N/A', '1970']\n",
            "['Mr. Kevin Paul Corbally', 'Group Chief Risk Officer', '1.57M', 'N/A', '1973']\n",
            "['Mr. Gerard  Florian', 'Group Exec. of Technology', '1.49M', 'N/A', '1966']\n",
            "['Ms. Kathryn  van der Merwe', 'Group Exec. of Talent & Culture and Service Centres', '1.21M', 'N/A', '1974']\n",
            "['Ms. Antonia Margaret Watson B.Com.', 'Chief Exec. Officer of New Zealand', '1.38M', 'N/A', '1969']\n",
            "['Mr. Shane M. Buggle', 'Acting Chief Financial Officer', 'N/A', 'N/A', 'N/A']\n",
            "['Mr. Craig Lioneln Sims MBA', 'Group Gen. Mang. of Operations & Services', 'N/A', 'N/A', 'N/A']\n",
            "['Mr. Shayne Cary Elliott B.Com., B.Com', 'MD, CEO & Exec. Director', '3.24M', 'N/A', '1964']\n",
            "['Mr. Mark  Whelan', 'Group Exec. of Institutional', '1.59M', 'N/A', '1960']\n",
            "['Mr. Mark  Hand', 'Group Exec. Australia Retail & Commercial Banking', '1.81M', 'N/A', '1968']\n",
            "['Ms. Maile Katherine Carnegie', 'Group Exec. of Digital & Australia Transformation', '1.66M', 'N/A', '1970']\n",
            "['Mr. Kevin Paul Corbally', 'Group Chief Risk Officer', '1.57M', 'N/A', '1973']\n",
            "['Mr. Gerard  Florian', 'Group Exec. of Technology', '1.49M', 'N/A', '1966']\n",
            "['Ms. Kathryn  van der Merwe', 'Group Exec. of Talent & Culture and Service Centres', '1.21M', 'N/A', '1974']\n",
            "['Ms. Antonia Margaret Watson B.Com.', 'Chief Exec. Officer of New Zealand', '1.38M', 'N/A', '1969']\n",
            "['Mr. Shane M. Buggle', 'Acting Chief Financial Officer', 'N/A', 'N/A', 'N/A']\n",
            "['Mr. Craig Lioneln Sims MBA', 'Group Gen. Mang. of Operations & Services', 'N/A', 'N/A', 'N/A']\n",
            "['Mr. Shayne Cary Elliott B.Com., B.Com', 'MD, CEO & Exec. Director', '3.24M', 'N/A', '1964']\n",
            "['Mr. Mark  Whelan', 'Group Exec. of Institutional', '1.59M', 'N/A', '1960']\n",
            "['Mr. Mark  Hand', 'Group Exec. Australia Retail & Commercial Banking', '1.81M', 'N/A', '1968']\n",
            "['Ms. Maile Katherine Carnegie', 'Group Exec. of Digital & Australia Transformation', '1.66M', 'N/A', '1970']\n",
            "['Mr. Kevin Paul Corbally', 'Group Chief Risk Officer', '1.57M', 'N/A', '1973']\n",
            "['Mr. Gerard  Florian', 'Group Exec. of Technology', '1.49M', 'N/A', '1966']\n",
            "['Ms. Kathryn  van der Merwe', 'Group Exec. of Talent & Culture and Service Centres', '1.21M', 'N/A', '1974']\n",
            "['Ms. Antonia Margaret Watson B.Com.', 'Chief Exec. Officer of New Zealand', '1.38M', 'N/A', '1969']\n",
            "['Mr. Shane M. Buggle', 'Acting Chief Financial Officer', 'N/A', 'N/A', 'N/A']\n",
            "['Mr. Craig Lioneln Sims MBA', 'Group Gen. Mang. of Operations & Services', 'N/A', 'N/A', 'N/A']\n",
            "['Mr. Shayne Cary Elliott B.Com., B.Com', 'MD, CEO & Exec. Director', '3.24M', 'N/A', '1964']\n",
            "['Mr. Mark  Whelan', 'Group Exec. of Institutional', '1.59M', 'N/A', '1960']\n",
            "['Mr. Mark  Hand', 'Group Exec. Australia Retail & Commercial Banking', '1.81M', 'N/A', '1968']\n",
            "['Ms. Maile Katherine Carnegie', 'Group Exec. of Digital & Australia Transformation', '1.66M', 'N/A', '1970']\n",
            "['Mr. Kevin Paul Corbally', 'Group Chief Risk Officer', '1.57M', 'N/A', '1973']\n",
            "['Mr. Gerard  Florian', 'Group Exec. of Technology', '1.49M', 'N/A', '1966']\n",
            "['Ms. Kathryn  van der Merwe', 'Group Exec. of Talent & Culture and Service Centres', '1.21M', 'N/A', '1974']\n",
            "['Ms. Antonia Margaret Watson B.Com.', 'Chief Exec. Officer of New Zealand', '1.38M', 'N/A', '1969']\n",
            "['Mr. Shane M. Buggle', 'Acting Chief Financial Officer', 'N/A', 'N/A', 'N/A']\n",
            "['Mr. Craig Lioneln Sims MBA', 'Group Gen. Mang. of Operations & Services', 'N/A', 'N/A', 'N/A']\n",
            "['Mr. Shayne Cary Elliott B.Com., B.Com', 'MD, CEO & Exec. Director', '3.24M', 'N/A', '1964']\n",
            "['Mr. Mark  Whelan', 'Group Exec. of Institutional', '1.59M', 'N/A', '1960']\n",
            "['Mr. Mark  Hand', 'Group Exec. Australia Retail & Commercial Banking', '1.81M', 'N/A', '1968']\n",
            "['Ms. Maile Katherine Carnegie', 'Group Exec. of Digital & Australia Transformation', '1.66M', 'N/A', '1970']\n",
            "['Mr. Kevin Paul Corbally', 'Group Chief Risk Officer', '1.57M', 'N/A', '1973']\n",
            "['Mr. Gerard  Florian', 'Group Exec. of Technology', '1.49M', 'N/A', '1966']\n",
            "['Ms. Kathryn  van der Merwe', 'Group Exec. of Talent & Culture and Service Centres', '1.21M', 'N/A', '1974']\n",
            "['Ms. Antonia Margaret Watson B.Com.', 'Chief Exec. Officer of New Zealand', '1.38M', 'N/A', '1969']\n",
            "['Mr. Shane M. Buggle', 'Acting Chief Financial Officer', 'N/A', 'N/A', 'N/A']\n",
            "['Mr. Craig Lioneln Sims MBA', 'Group Gen. Mang. of Operations & Services', 'N/A', 'N/A', 'N/A']\n",
            "['Mr. Shayne Cary Elliott B.Com., B.Com', 'MD, CEO & Exec. Director', '3.24M', 'N/A', '1964']\n",
            "['Mr. Mark  Whelan', 'Group Exec. of Institutional', '1.59M', 'N/A', '1960']\n",
            "['Mr. Mark  Hand', 'Group Exec. Australia Retail & Commercial Banking', '1.81M', 'N/A', '1968']\n",
            "['Ms. Maile Katherine Carnegie', 'Group Exec. of Digital & Australia Transformation', '1.66M', 'N/A', '1970']\n",
            "['Mr. Kevin Paul Corbally', 'Group Chief Risk Officer', '1.57M', 'N/A', '1973']\n",
            "['Mr. Gerard  Florian', 'Group Exec. of Technology', '1.49M', 'N/A', '1966']\n",
            "['Ms. Kathryn  van der Merwe', 'Group Exec. of Talent & Culture and Service Centres', '1.21M', 'N/A', '1974']\n",
            "['Ms. Antonia Margaret Watson B.Com.', 'Chief Exec. Officer of New Zealand', '1.38M', 'N/A', '1969']\n",
            "['Mr. Shane M. Buggle', 'Acting Chief Financial Officer', 'N/A', 'N/A', 'N/A']\n",
            "['Mr. Craig Lioneln Sims MBA', 'Group Gen. Mang. of Operations & Services', 'N/A', 'N/A', 'N/A']\n",
            "['Mr. Shayne Cary Elliott B.Com., B.Com', 'MD, CEO & Exec. Director', '3.24M', 'N/A', '1964']\n",
            "['Mr. Mark  Whelan', 'Group Exec. of Institutional', '1.59M', 'N/A', '1960']\n",
            "['Mr. Mark  Hand', 'Group Exec. Australia Retail & Commercial Banking', '1.81M', 'N/A', '1968']\n",
            "['Ms. Maile Katherine Carnegie', 'Group Exec. of Digital & Australia Transformation', '1.66M', 'N/A', '1970']\n",
            "['Mr. Kevin Paul Corbally', 'Group Chief Risk Officer', '1.57M', 'N/A', '1973']\n",
            "['Mr. Gerard  Florian', 'Group Exec. of Technology', '1.49M', 'N/A', '1966']\n",
            "['Ms. Kathryn  van der Merwe', 'Group Exec. of Talent & Culture and Service Centres', '1.21M', 'N/A', '1974']\n",
            "['Ms. Antonia Margaret Watson B.Com.', 'Chief Exec. Officer of New Zealand', '1.38M', 'N/A', '1969']\n",
            "['Mr. Shane M. Buggle', 'Acting Chief Financial Officer', 'N/A', 'N/A', 'N/A']\n",
            "['Mr. Craig Lioneln Sims MBA', 'Group Gen. Mang. of Operations & Services', 'N/A', 'N/A', 'N/A']\n",
            "['Mr. Shayne Cary Elliott B.Com., B.Com', 'MD, CEO & Exec. Director', '3.24M', 'N/A', '1964']\n",
            "['Mr. Mark  Whelan', 'Group Exec. of Institutional', '1.59M', 'N/A', '1960']\n",
            "['Mr. Mark  Hand', 'Group Exec. Australia Retail & Commercial Banking', '1.81M', 'N/A', '1968']\n",
            "['Ms. Maile Katherine Carnegie', 'Group Exec. of Digital & Australia Transformation', '1.66M', 'N/A', '1970']\n",
            "['Mr. Kevin Paul Corbally', 'Group Chief Risk Officer', '1.57M', 'N/A', '1973']\n",
            "['Mr. Gerard  Florian', 'Group Exec. of Technology', '1.49M', 'N/A', '1966']\n",
            "['Ms. Kathryn  van der Merwe', 'Group Exec. of Talent & Culture and Service Centres', '1.21M', 'N/A', '1974']\n",
            "['Ms. Antonia Margaret Watson B.Com.', 'Chief Exec. Officer of New Zealand', '1.38M', 'N/A', '1969']\n",
            "['Mr. Shane M. Buggle', 'Acting Chief Financial Officer', 'N/A', 'N/A', 'N/A']\n",
            "['Mr. Craig Lioneln Sims MBA', 'Group Gen. Mang. of Operations & Services', 'N/A', 'N/A', 'N/A']\n",
            "['Mr. Shayne Cary Elliott B.Com., B.Com', 'MD, CEO & Exec. Director', '3.24M', 'N/A', '1964']\n",
            "['Mr. Mark  Whelan', 'Group Exec. of Institutional', '1.59M', 'N/A', '1960']\n",
            "['Mr. Mark  Hand', 'Group Exec. Australia Retail & Commercial Banking', '1.81M', 'N/A', '1968']\n",
            "['Ms. Maile Katherine Carnegie', 'Group Exec. of Digital & Australia Transformation', '1.66M', 'N/A', '1970']\n",
            "['Mr. Kevin Paul Corbally', 'Group Chief Risk Officer', '1.57M', 'N/A', '1973']\n",
            "['Mr. Gerard  Florian', 'Group Exec. of Technology', '1.49M', 'N/A', '1966']\n",
            "['Ms. Kathryn  van der Merwe', 'Group Exec. of Talent & Culture and Service Centres', '1.21M', 'N/A', '1974']\n",
            "['Ms. Antonia Margaret Watson B.Com.', 'Chief Exec. Officer of New Zealand', '1.38M', 'N/A', '1969']\n",
            "['Mr. Shane M. Buggle', 'Acting Chief Financial Officer', 'N/A', 'N/A', 'N/A']\n",
            "['Mr. Craig Lioneln Sims MBA', 'Group Gen. Mang. of Operations & Services', 'N/A', 'N/A', 'N/A']\n",
            "['Mr. Shayne Cary Elliott B.Com., B.Com', 'MD, CEO & Exec. Director', '3.24M', 'N/A', '1964']\n",
            "['Mr. Mark  Whelan', 'Group Exec. of Institutional', '1.59M', 'N/A', '1960']\n",
            "['Mr. Mark  Hand', 'Group Exec. Australia Retail & Commercial Banking', '1.81M', 'N/A', '1968']\n",
            "['Ms. Maile Katherine Carnegie', 'Group Exec. of Digital & Australia Transformation', '1.66M', 'N/A', '1970']\n",
            "['Mr. Kevin Paul Corbally', 'Group Chief Risk Officer', '1.57M', 'N/A', '1973']\n",
            "['Mr. Gerard  Florian', 'Group Exec. of Technology', '1.49M', 'N/A', '1966']\n",
            "['Ms. Kathryn  van der Merwe', 'Group Exec. of Talent & Culture and Service Centres', '1.21M', 'N/A', '1974']\n",
            "['Ms. Antonia Margaret Watson B.Com.', 'Chief Exec. Officer of New Zealand', '1.38M', 'N/A', '1969']\n",
            "['Mr. Shane M. Buggle', 'Acting Chief Financial Officer', 'N/A', 'N/A', 'N/A']\n",
            "['Mr. Craig Lioneln Sims MBA', 'Group Gen. Mang. of Operations & Services', 'N/A', 'N/A', 'N/A']\n"
          ]
        }
      ]
    },
    {
      "cell_type": "code",
      "metadata": {
        "colab": {
          "base_uri": "https://localhost:8080/"
        },
        "id": "6p7x3uX8wSwC",
        "outputId": "6dce3bb2-4d6c-4f5b-d073-68752af8f65b"
      },
      "source": [
        "soup = BeautifulSoup(wd.page_source, 'html.parser')\n",
        "tables = soup.find_all('table')\n",
        "table_rows = tables[0].find_all('tr')\n",
        "for tr in table_rows:\n",
        "  \n",
        " print (tr)"
      ],
      "execution_count": null,
      "outputs": [
        {
          "output_type": "stream",
          "name": "stdout",
          "text": [
            "<tr class=\"C($tertiaryColor) Fz(xs) BdB Bdc($seperatorColor)\" data-reactid=\"38\"><th class=\"Ta(start) Py(6px) Fw(n)\" data-reactid=\"39\"><span data-reactid=\"40\">Name</span></th><th class=\"Ta(start) Py(6px) Fw(n)\" data-reactid=\"41\"><span data-reactid=\"42\">Title</span></th><th class=\"Ta(end) Py(6px) Fw(n)\" data-reactid=\"43\"><span data-reactid=\"44\">Pay</span></th><th class=\"Ta(end) Py(6px) Fw(n)\" data-reactid=\"45\"><span data-reactid=\"46\">Exercised</span></th><th class=\"Ta(end) Py(6px) Fw(n)\" data-reactid=\"47\"><span data-reactid=\"48\">Year Born</span></th></tr>\n",
            "<tr class=\"C($primaryColor) BdB Bdc($seperatorColor) H(36px)\" data-reactid=\"50\"><td class=\"Ta(start)\" data-reactid=\"51\"><span class=\"\" data-reactid=\"52\"><!-- react-text: 53 -->Mr. Shayne Cary Elliott B.Com., B.Com<!-- /react-text --></span></td><td class=\"Ta(start) W(45%)\" data-reactid=\"54\"><span class=\"\" data-reactid=\"55\"><!-- react-text: 56 -->MD, CEO &amp; Exec. Director<!-- /react-text --></span></td><td class=\"Ta(end)\" data-reactid=\"57\"><span class=\"\" data-reactid=\"58\"><!-- react-text: 59 -->3.24M<!-- /react-text --></span></td><td class=\"Ta(end)\" data-reactid=\"60\"><span class=\"\" data-reactid=\"61\"><span data-reactid=\"62\">N/A</span></span></td><td class=\"Ta(end)\" data-reactid=\"63\"><span class=\"\" data-reactid=\"64\"><!-- react-text: 65 -->1964<!-- /react-text --></span></td></tr>\n",
            "<tr class=\"C($primaryColor) BdB Bdc($seperatorColor) H(36px)\" data-reactid=\"66\"><td class=\"Ta(start)\" data-reactid=\"67\"><span class=\"\" data-reactid=\"68\"><!-- react-text: 69 -->Mr. Mark  Whelan<!-- /react-text --></span></td><td class=\"Ta(start) W(45%)\" data-reactid=\"70\"><span class=\"\" data-reactid=\"71\"><!-- react-text: 72 -->Group Exec. of Institutional<!-- /react-text --></span></td><td class=\"Ta(end)\" data-reactid=\"73\"><span class=\"\" data-reactid=\"74\"><!-- react-text: 75 -->1.59M<!-- /react-text --></span></td><td class=\"Ta(end)\" data-reactid=\"76\"><span class=\"\" data-reactid=\"77\"><span data-reactid=\"78\">N/A</span></span></td><td class=\"Ta(end)\" data-reactid=\"79\"><span class=\"\" data-reactid=\"80\"><!-- react-text: 81 -->1960<!-- /react-text --></span></td></tr>\n",
            "<tr class=\"C($primaryColor) BdB Bdc($seperatorColor) H(36px)\" data-reactid=\"82\"><td class=\"Ta(start)\" data-reactid=\"83\"><span class=\"\" data-reactid=\"84\"><!-- react-text: 85 -->Mr. Mark  Hand<!-- /react-text --></span></td><td class=\"Ta(start) W(45%)\" data-reactid=\"86\"><span class=\"\" data-reactid=\"87\"><!-- react-text: 88 -->Group Exec. Australia Retail &amp; Commercial Banking<!-- /react-text --></span></td><td class=\"Ta(end)\" data-reactid=\"89\"><span class=\"\" data-reactid=\"90\"><!-- react-text: 91 -->1.81M<!-- /react-text --></span></td><td class=\"Ta(end)\" data-reactid=\"92\"><span class=\"\" data-reactid=\"93\"><span data-reactid=\"94\">N/A</span></span></td><td class=\"Ta(end)\" data-reactid=\"95\"><span class=\"\" data-reactid=\"96\"><!-- react-text: 97 -->1968<!-- /react-text --></span></td></tr>\n",
            "<tr class=\"C($primaryColor) BdB Bdc($seperatorColor) H(36px)\" data-reactid=\"98\"><td class=\"Ta(start)\" data-reactid=\"99\"><span class=\"\" data-reactid=\"100\"><!-- react-text: 101 -->Ms. Maile Katherine Carnegie<!-- /react-text --></span></td><td class=\"Ta(start) W(45%)\" data-reactid=\"102\"><span class=\"\" data-reactid=\"103\"><!-- react-text: 104 -->Group Exec. of Digital &amp; Australia Transformation<!-- /react-text --></span></td><td class=\"Ta(end)\" data-reactid=\"105\"><span class=\"\" data-reactid=\"106\"><!-- react-text: 107 -->1.66M<!-- /react-text --></span></td><td class=\"Ta(end)\" data-reactid=\"108\"><span class=\"\" data-reactid=\"109\"><span data-reactid=\"110\">N/A</span></span></td><td class=\"Ta(end)\" data-reactid=\"111\"><span class=\"\" data-reactid=\"112\"><!-- react-text: 113 -->1970<!-- /react-text --></span></td></tr>\n",
            "<tr class=\"C($primaryColor) BdB Bdc($seperatorColor) H(36px)\" data-reactid=\"114\"><td class=\"Ta(start)\" data-reactid=\"115\"><span class=\"\" data-reactid=\"116\"><!-- react-text: 117 -->Mr. Kevin Paul Corbally<!-- /react-text --></span></td><td class=\"Ta(start) W(45%)\" data-reactid=\"118\"><span class=\"\" data-reactid=\"119\"><!-- react-text: 120 -->Group Chief Risk Officer<!-- /react-text --></span></td><td class=\"Ta(end)\" data-reactid=\"121\"><span class=\"\" data-reactid=\"122\"><!-- react-text: 123 -->1.57M<!-- /react-text --></span></td><td class=\"Ta(end)\" data-reactid=\"124\"><span class=\"\" data-reactid=\"125\"><span data-reactid=\"126\">N/A</span></span></td><td class=\"Ta(end)\" data-reactid=\"127\"><span class=\"\" data-reactid=\"128\"><!-- react-text: 129 -->1973<!-- /react-text --></span></td></tr>\n",
            "<tr class=\"C($primaryColor) BdB Bdc($seperatorColor) H(36px)\" data-reactid=\"130\"><td class=\"Ta(start)\" data-reactid=\"131\"><span class=\"\" data-reactid=\"132\"><!-- react-text: 133 -->Mr. Gerard  Florian<!-- /react-text --></span></td><td class=\"Ta(start) W(45%)\" data-reactid=\"134\"><span class=\"\" data-reactid=\"135\"><!-- react-text: 136 -->Group Exec. of Technology<!-- /react-text --></span></td><td class=\"Ta(end)\" data-reactid=\"137\"><span class=\"\" data-reactid=\"138\"><!-- react-text: 139 -->1.49M<!-- /react-text --></span></td><td class=\"Ta(end)\" data-reactid=\"140\"><span class=\"\" data-reactid=\"141\"><span data-reactid=\"142\">N/A</span></span></td><td class=\"Ta(end)\" data-reactid=\"143\"><span class=\"\" data-reactid=\"144\"><!-- react-text: 145 -->1966<!-- /react-text --></span></td></tr>\n",
            "<tr class=\"C($primaryColor) BdB Bdc($seperatorColor) H(36px)\" data-reactid=\"146\"><td class=\"Ta(start)\" data-reactid=\"147\"><span class=\"\" data-reactid=\"148\"><!-- react-text: 149 -->Ms. Kathryn  van der Merwe<!-- /react-text --></span></td><td class=\"Ta(start) W(45%)\" data-reactid=\"150\"><span class=\"\" data-reactid=\"151\"><!-- react-text: 152 -->Group Exec. of Talent &amp; Culture and Service Centres<!-- /react-text --></span></td><td class=\"Ta(end)\" data-reactid=\"153\"><span class=\"\" data-reactid=\"154\"><!-- react-text: 155 -->1.21M<!-- /react-text --></span></td><td class=\"Ta(end)\" data-reactid=\"156\"><span class=\"\" data-reactid=\"157\"><span data-reactid=\"158\">N/A</span></span></td><td class=\"Ta(end)\" data-reactid=\"159\"><span class=\"\" data-reactid=\"160\"><!-- react-text: 161 -->1974<!-- /react-text --></span></td></tr>\n",
            "<tr class=\"C($primaryColor) BdB Bdc($seperatorColor) H(36px)\" data-reactid=\"162\"><td class=\"Ta(start)\" data-reactid=\"163\"><span class=\"\" data-reactid=\"164\"><!-- react-text: 165 -->Ms. Antonia Margaret Watson B.Com.<!-- /react-text --></span></td><td class=\"Ta(start) W(45%)\" data-reactid=\"166\"><span class=\"\" data-reactid=\"167\"><!-- react-text: 168 -->Chief Exec. Officer of New Zealand<!-- /react-text --></span></td><td class=\"Ta(end)\" data-reactid=\"169\"><span class=\"\" data-reactid=\"170\"><!-- react-text: 171 -->1.38M<!-- /react-text --></span></td><td class=\"Ta(end)\" data-reactid=\"172\"><span class=\"\" data-reactid=\"173\"><span data-reactid=\"174\">N/A</span></span></td><td class=\"Ta(end)\" data-reactid=\"175\"><span class=\"\" data-reactid=\"176\"><!-- react-text: 177 -->1969<!-- /react-text --></span></td></tr>\n",
            "<tr class=\"C($primaryColor) BdB Bdc($seperatorColor) H(36px)\" data-reactid=\"178\"><td class=\"Ta(start)\" data-reactid=\"179\"><span class=\"\" data-reactid=\"180\"><!-- react-text: 181 -->Mr. Shane M. Buggle<!-- /react-text --></span></td><td class=\"Ta(start) W(45%)\" data-reactid=\"182\"><span class=\"\" data-reactid=\"183\"><!-- react-text: 184 -->Acting Chief Financial Officer<!-- /react-text --></span></td><td class=\"Ta(end)\" data-reactid=\"185\"><span class=\"\" data-reactid=\"186\"><span data-reactid=\"187\">N/A</span></span></td><td class=\"Ta(end)\" data-reactid=\"188\"><span class=\"\" data-reactid=\"189\"><span data-reactid=\"190\">N/A</span></span></td><td class=\"Ta(end)\" data-reactid=\"191\"><span class=\"\" data-reactid=\"192\"><span data-reactid=\"193\">N/A</span></span></td></tr>\n",
            "<tr class=\"C($primaryColor) BdB Bdc($seperatorColor) H(36px)\" data-reactid=\"194\"><td class=\"Ta(start)\" data-reactid=\"195\"><span class=\"\" data-reactid=\"196\"><!-- react-text: 197 -->Mr. Craig Lioneln Sims MBA<!-- /react-text --></span></td><td class=\"Ta(start) W(45%)\" data-reactid=\"198\"><span class=\"\" data-reactid=\"199\"><!-- react-text: 200 -->Group Gen. Mang. of Operations &amp; Services<!-- /react-text --></span></td><td class=\"Ta(end)\" data-reactid=\"201\"><span class=\"\" data-reactid=\"202\"><span data-reactid=\"203\">N/A</span></span></td><td class=\"Ta(end)\" data-reactid=\"204\"><span class=\"\" data-reactid=\"205\"><span data-reactid=\"206\">N/A</span></span></td><td class=\"Ta(end)\" data-reactid=\"207\"><span class=\"\" data-reactid=\"208\"><span data-reactid=\"209\">N/A</span></span></td></tr>\n"
          ]
        }
      ]
    }
  ]
}