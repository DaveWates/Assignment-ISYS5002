{
  "nbformat": 4,
  "nbformat_minor": 0,
  "metadata": {
    "colab": {
      "name": "Assignment4.ipynb",
      "provenance": [],
      "collapsed_sections": [],
      "authorship_tag": "ABX9TyO3jC5cyjT7GzGudJIbrmUp",
      "include_colab_link": true
    },
    "kernelspec": {
      "display_name": "Python 3",
      "name": "python3"
    },
    "language_info": {
      "name": "python"
    }
  },
  "cells": [
    {
      "cell_type": "markdown",
      "metadata": {
        "id": "view-in-github",
        "colab_type": "text"
      },
      "source": [
        "<a href=\"https://colab.research.google.com/github/DaveWates/Assignment-ISYS5002/blob/main/Assignment4.ipynb\" target=\"_parent\"><img src=\"https://colab.research.google.com/assets/colab-badge.svg\" alt=\"Open In Colab\"/></a>"
      ]
    },
    {
      "cell_type": "markdown",
      "metadata": {
        "id": "mWkGbogfZwM2"
      },
      "source": [
        "**This Program determines the salary of key executive personnel of companies whereby a user provides a stock market ticker. (I have chosen the major Australian Banks as a test sample). It will then calculate the tax payable on the reported income.**\n"
      ]
    },
    {
      "cell_type": "markdown",
      "metadata": {
        "id": "Rzgd7R3maHan"
      },
      "source": [
        "**1. Load the packages**"
      ]
    },
    {
      "cell_type": "code",
      "metadata": {
        "id": "GV4F1HRVH49l",
        "outputId": "a4f67c66-05b4-4d62-c653-125f8a7c35e8",
        "colab": {
          "base_uri": "https://localhost:8080/"
        }
      },
      "source": [
        "!pip install kora -q\n",
        "from kora.selenium import wd\n",
        "from bs4 import BeautifulSoup\n",
        "import pandas as pd\n",
        "import requests"
      ],
      "execution_count": 2,
      "outputs": [
        {
          "output_type": "stream",
          "name": "stdout",
          "text": [
            "\u001b[?25l\r\u001b[K     |█████▊                          | 10 kB 23.2 MB/s eta 0:00:01\r\u001b[K     |███████████▍                    | 20 kB 29.3 MB/s eta 0:00:01\r\u001b[K     |█████████████████               | 30 kB 34.7 MB/s eta 0:00:01\r\u001b[K     |██████████████████████▊         | 40 kB 29.0 MB/s eta 0:00:01\r\u001b[K     |████████████████████████████▍   | 51 kB 20.2 MB/s eta 0:00:01\r\u001b[K     |████████████████████████████████| 57 kB 4.6 MB/s \n",
            "\u001b[?25h\u001b[?25l\r\u001b[K     |█████▉                          | 10 kB 28.3 MB/s eta 0:00:01\r\u001b[K     |███████████▊                    | 20 kB 37.3 MB/s eta 0:00:01\r\u001b[K     |█████████████████▌              | 30 kB 43.8 MB/s eta 0:00:01\r\u001b[K     |███████████████████████▍        | 40 kB 48.4 MB/s eta 0:00:01\r\u001b[K     |█████████████████████████████▎  | 51 kB 52.3 MB/s eta 0:00:01\r\u001b[K     |████████████████████████████████| 56 kB 4.1 MB/s \n",
            "\u001b[?25h"
          ]
        }
      ]
    },
    {
      "cell_type": "code",
      "metadata": {
        "id": "Bg04gORePA2v"
      },
      "source": [
        "# Establish Pattern\n",
        "url = ('https://finance.yahoo.com')\n",
        "wd.get(url)"
      ],
      "execution_count": 3,
      "outputs": []
    },
    {
      "cell_type": "markdown",
      "metadata": {
        "id": "A0T97g7QW-4Z"
      },
      "source": [
        "**2. Query the Yahoo Finance website using a format string**. When we look for where in Yahoo finance the salary of the executives is stored, we choose a particular stock ticker symbol and select the profile tab. This then provides the relevant web url for the search. \n",
        "\n",
        "\n",
        "Of course this is specific to the ticker symbol input. In order to apply this across all companies, we use a format string which replaces the particular ticker with curly brackets. Then we issue a command to tell the program to format the url replacing the {} with what ever is input by the user. \n",
        "\n",
        "\n",
        "\n",
        "\n",
        "\n",
        "\n",
        "\n",
        "\n",
        "\n",
        "\n",
        "\n",
        "\n",
        "\n",
        "\n",
        "\n",
        "\n",
        "\n",
        "\n"
      ]
    },
    {
      "cell_type": "code",
      "metadata": {
        "colab": {
          "base_uri": "https://localhost:8080/"
        },
        "id": "O1gMCodarVQJ",
        "outputId": "2012d3d4-b80c-4c0f-a797-f6c37e55d292"
      },
      "source": [
        "# Work out the URL pattern\n",
        "salary_template = ('https://finance.yahoo.com/quote/{}/profile?p={}')\n",
        "#ticker_symbol = 'User input'\n",
        "ticker_symbol = input('What is the stock ticker symbol for the company you wish to search? ')\n",
        "url = salary_template.format(ticker_symbol,ticker_symbol)\n",
        "print('the url for the search is', get_ticker_symbol())"
      ],
      "execution_count": 7,
      "outputs": [
        {
          "output_type": "stream",
          "name": "stdout",
          "text": [
            "What is the stock ticker symbol for the company you wish to search? NAB.AX\n",
            "the url for the search is https://finance.yahoo.com/quote/NAB.AX/profile?p=NAB.AX\n"
          ]
        }
      ]
    },
    {
      "cell_type": "code",
      "metadata": {
        "colab": {
          "base_uri": "https://localhost:8080/"
        },
        "id": "o7jTdIkFqCyX",
        "outputId": "a1f0e534-e2e2-4c1d-e06e-ca8adb93a1b6"
      },
      "source": [
        "ticker_symbol = input('What is the estock ticker symbol for the company you wish to search? ')"
      ],
      "execution_count": 6,
      "outputs": [
        {
          "name": "stdout",
          "output_type": "stream",
          "text": [
            "What is the estock ticker symbol for the company you wish to search? NAB.AX\n"
          ]
        }
      ]
    },
    {
      "cell_type": "code",
      "metadata": {
        "id": "k1MXBMyEQTbQ"
      },
      "source": [
        "# Create a function to provide the relevant URL \n",
        "salary_template = ('https://finance.yahoo.com/quote/{}/profile?p={}')\n",
        "def get_ticker_symbol():\n",
        " url = salary_template.format(ticker_symbol,ticker_symbol)\n",
        " return url"
      ],
      "execution_count": 4,
      "outputs": []
    },
    {
      "cell_type": "code",
      "metadata": {
        "colab": {
          "base_uri": "https://localhost:8080/"
        },
        "id": "Cs02jjDjsxrp",
        "outputId": "7883a0cf-1bf2-4bed-d585-b548f4b84c5a"
      },
      "source": [
        "ticker_symbol = input('What is the estock ticker symbol for the company you wish to search? ')"
      ],
      "execution_count": 5,
      "outputs": [
        {
          "name": "stdout",
          "output_type": "stream",
          "text": [
            "What is the estock ticker symbol for the company you wish to search? NAB.AX\n"
          ]
        }
      ]
    },
    {
      "cell_type": "markdown",
      "metadata": {
        "id": "KJdmy--oeWbZ"
      },
      "source": [
        ""
      ]
    },
    {
      "cell_type": "code",
      "metadata": {
        "colab": {
          "base_uri": "https://localhost:8080/"
        },
        "id": "TKt2kzlPdhg0",
        "outputId": "8f061b19-ba12-40df-f1da-b68effc1e1ca"
      },
      "source": [
        "wd.get(get_ticker_symbol())\n",
        "soup = BeautifulSoup(wd.page_source, 'html.parser')\n",
        "table = soup.find('table')\n",
        "body = table.find('tbody')\n",
        "rows = body.find_all('tr')\n",
        "list_of_records = [] # create a empty list to save/store our records\n",
        "for row in rows:\n",
        "  data =row.find_all('td')\n",
        "  data =[x.text.strip() for x in data]\n",
        " \n",
        " # Remeber computer start counting form zero, so the 'first' is '0'\n",
        "  record = {'name': data[0], 'title': data[1], 'pay': data[2]}\n",
        "  list_of_records.append(record)  # save the record to our list\n",
        "# lets see if that workd, print out the records\n",
        "#print(str(list_of_records))\n",
        "#len(list_of_records)\n",
        "\n",
        "print(list_of_records[0]['name'],list_of_records[0]['pay'] )\n",
        "print(list_of_records[1]['name'],list_of_records[1]['pay'] )\n",
        "print(list_of_records[2]['name'],list_of_records[2]['pay'] )\n",
        "print(list_of_records[3]['name'],list_of_records[3]['pay'] )\n",
        "print(list_of_records[4]['name'],list_of_records[4]['pay'] )\n",
        "print(list_of_records[5]['name'],list_of_records[5]['pay'] )\n",
        "print(list_of_records[6]['name'],list_of_records[6]['pay'] )\n",
        "print(list_of_records[7]['name'],list_of_records[7]['pay'] )\n",
        "print(list_of_records[8]['name'],list_of_records[8]['pay'] )\n",
        "print(list_of_records[9]['name'],list_of_records[9]['pay'] )"
      ],
      "execution_count": 10,
      "outputs": [
        {
          "output_type": "stream",
          "name": "stdout",
          "text": [
            "Mr. Ross Maxwell McEwan CBE, B.B.S. 2.54M\n",
            "Mr. Gary Andrew Lennon BEC, F.C.A., BEc (Hons), FCA 1.13M\n",
            "Mr. Patrick F. Wright 1.72M\n",
            "Ms. Sharon J. Cook 912.98k\n",
            "Ms. Susan  Ferrier 929.27k\n",
            "Ms. Angela  Mentis B.Bus 1.62M\n",
            "Mr. Shaun  Dooley 1.05M\n",
            "Mr. Andrew  Irvine 333.27k\n",
            "Mr. Lesile D. Matheson N/A\n",
            "Ms. Sally  Mihell N/A\n"
          ]
        }
      ]
    },
    {
      "cell_type": "code",
      "metadata": {
        "id": "LVdKQnnj7j8j"
      },
      "source": [
        ""
      ],
      "execution_count": null,
      "outputs": []
    },
    {
      "cell_type": "code",
      "metadata": {
        "id": "ppZJy5xy7kfA"
      },
      "source": [
        ""
      ],
      "execution_count": null,
      "outputs": []
    },
    {
      "cell_type": "code",
      "metadata": {
        "id": "P4pNhSnxQvJw"
      },
      "source": [
        ""
      ],
      "execution_count": null,
      "outputs": []
    },
    {
      "cell_type": "code",
      "metadata": {
        "colab": {
          "base_uri": "https://localhost:8080/"
        },
        "id": "Gju2yR5FgKhU",
        "outputId": "fa25e20f-3844-4b68-b75b-59618beb6052"
      },
      "source": [
        "def get_records(soup):\n",
        "  table = soup.find('table')\n",
        "  body = table.find('tbody')\n",
        "  rows = body.find_all('tr')\n",
        "  list_of_records = [] # create a empty list to save/store our records\n",
        "  for row in rows:\n",
        "    for row in rows:\n",
        "     cols=row.find_all('td')\n",
        "     cols=[x.text.strip() for x in cols]\n",
        "     return (cols[0],cols[2])\n",
        "     list_of_records.append(cols[0],cols[2])    \n",
        "    #data = row.find_all('td')\n",
        "    # Remember computer start counting form zero, so the 'first' is '0'\n",
        "    #record = {'name': data[0], 'title': data[1], 'pay': data[2]}\n",
        "    #list_of_records.append(record)  # save the record to our list\n",
        "\n",
        "  #return list_of_records\n",
        "print(list_of_records)\n"
      ],
      "execution_count": null,
      "outputs": [
        {
          "name": "stdout",
          "output_type": "stream",
          "text": [
            "[]\n"
          ]
        }
      ]
    },
    {
      "cell_type": "code",
      "metadata": {
        "id": "4HWgKUH6h9K4"
      },
      "source": [
        "def get_salary(salary_string):\n",
        "   cols[2] = salary_string[-1] \n",
        "   num_part = salary_string[0:-1]\n",
        "   if last_char == 'M':\n",
        "        salary = float(num_part) * 1000000\n",
        "   elif last_char == 'k': \n",
        "        salary = float(num_part) * 1000\n",
        "   else: # Must a N/A entry\n",
        "        salary = 0\n",
        "  "
      ],
      "execution_count": null,
      "outputs": []
    },
    {
      "cell_type": "code",
      "metadata": {
        "id": "LcmWqrpKjwrB"
      },
      "source": [
        "def calc_tax(income):\n",
        "  if income <= 18200:\n",
        "    tax = 0\n",
        "  elif 18200 < income <= 45000:\n",
        "    tax = (income - 18200) * 0.19\n",
        "  elif 45000 < income <= 120000:\n",
        "    tax = ((income - 45001) * 0.325) + 5092\n",
        "  elif 120000 < income <= 180000:\n",
        "    tax = ((income - 120001) * 0.37) + 29467\n",
        "  elif 18000 < income: \n",
        "    tax = ((income - 180001) * 0.45) + 51667\n",
        "  return tax"
      ],
      "execution_count": null,
      "outputs": []
    },
    {
      "cell_type": "code",
      "metadata": {
        "colab": {
          "base_uri": "https://localhost:8080/",
          "height": 232
        },
        "id": "ZkaFjbffjksr",
        "outputId": "67e6912e-d427-4e22-ba4b-745bcedd2815"
      },
      "source": [
        "tax_payable = []\n",
        "salary = cols[2]\n",
        "for salary in get_salary(salary_string):\n",
        "  tax = calc_tax(salary)\n",
        "  tax_payable.append(tax)"
      ],
      "execution_count": null,
      "outputs": [
        {
          "ename": "NameError",
          "evalue": "ignored",
          "output_type": "error",
          "traceback": [
            "\u001b[0;31m---------------------------------------------------------------------------\u001b[0m",
            "\u001b[0;31mNameError\u001b[0m                                 Traceback (most recent call last)",
            "\u001b[0;32m<ipython-input-105-8720ec64dffc>\u001b[0m in \u001b[0;36m<module>\u001b[0;34m()\u001b[0m\n\u001b[1;32m      1\u001b[0m \u001b[0mtax_payable\u001b[0m \u001b[0;34m=\u001b[0m \u001b[0;34m[\u001b[0m\u001b[0;34m]\u001b[0m\u001b[0;34m\u001b[0m\u001b[0;34m\u001b[0m\u001b[0m\n\u001b[1;32m      2\u001b[0m \u001b[0msalary\u001b[0m \u001b[0;34m=\u001b[0m \u001b[0mcols\u001b[0m\u001b[0;34m[\u001b[0m\u001b[0;36m2\u001b[0m\u001b[0;34m]\u001b[0m\u001b[0;34m\u001b[0m\u001b[0;34m\u001b[0m\u001b[0m\n\u001b[0;32m----> 3\u001b[0;31m \u001b[0;32mfor\u001b[0m \u001b[0msalary\u001b[0m \u001b[0;32min\u001b[0m \u001b[0mget_salary\u001b[0m\u001b[0;34m(\u001b[0m\u001b[0msalary_string\u001b[0m\u001b[0;34m)\u001b[0m\u001b[0;34m:\u001b[0m\u001b[0;34m\u001b[0m\u001b[0;34m\u001b[0m\u001b[0m\n\u001b[0m\u001b[1;32m      4\u001b[0m   \u001b[0mtax\u001b[0m \u001b[0;34m=\u001b[0m \u001b[0mcalc_tax\u001b[0m\u001b[0;34m(\u001b[0m\u001b[0msalary\u001b[0m\u001b[0;34m)\u001b[0m\u001b[0;34m\u001b[0m\u001b[0;34m\u001b[0m\u001b[0m\n\u001b[1;32m      5\u001b[0m   \u001b[0mtax_payable\u001b[0m\u001b[0;34m.\u001b[0m\u001b[0mappend\u001b[0m\u001b[0;34m(\u001b[0m\u001b[0mtax\u001b[0m\u001b[0;34m)\u001b[0m\u001b[0;34m\u001b[0m\u001b[0;34m\u001b[0m\u001b[0m\n",
            "\u001b[0;31mNameError\u001b[0m: name 'salary_string' is not defined"
          ]
        }
      ]
    },
    {
      "cell_type": "code",
      "metadata": {
        "id": "VJePrxzcsAZ_"
      },
      "source": [
        "wd.get(get_ticker_symbol())\n",
        "soup = BeautifulSoup(wd.page_source, 'html.parser')\n",
        "table = soup.find('table')\n",
        "#for table_data in soup.find_all('div', {'class': 'content'}):\n",
        "       # print(table_data)\n",
        "\n",
        "\n",
        "#executive_salary = []\n",
        "\n",
        "#df = pd.DataFrame(executive_salary)\n",
        " \n",
        "for row in table.find_all('tr'):\n",
        " for row in rows:\n",
        "    cols=row.find_all('td')\n",
        "    cols=[x.text.strip() for x in cols]\n",
        "    print(cols)      \n",
        "   #data = row.find_all('td')\n",
        "   #row_data = [td.text.strip() for td in data]\n",
        "   \n",
        "   #executive_salary.append(row_data) \n",
        "#print(executive_salary[1])\n",
        "#print(executive_salary[2])  "
      ],
      "execution_count": null,
      "outputs": []
    },
    {
      "cell_type": "code",
      "metadata": {
        "id": "6p7x3uX8wSwC"
      },
      "source": [
        "soup = BeautifulSoup(wd.page_source, 'html.parser')\n",
        "tables = soup.find_all('table')\n",
        "table_rows = tables[0].find_all('tr')\n",
        "for tr in table_rows:\n",
        "  \n",
        " print (tr)"
      ],
      "execution_count": null,
      "outputs": []
    }
  ]
}