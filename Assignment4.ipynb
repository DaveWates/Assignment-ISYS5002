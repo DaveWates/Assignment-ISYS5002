{
  "nbformat": 4,
  "nbformat_minor": 0,
  "metadata": {
    "colab": {
      "name": "Assignment4.ipynb",
      "provenance": [],
      "collapsed_sections": [],
      "authorship_tag": "ABX9TyNRz+dcma3G0+qNC8kVoet6",
      "include_colab_link": true
    },
    "kernelspec": {
      "display_name": "Python 3",
      "name": "python3"
    },
    "language_info": {
      "name": "python"
    }
  },
  "cells": [
    {
      "cell_type": "markdown",
      "metadata": {
        "id": "view-in-github",
        "colab_type": "text"
      },
      "source": [
        "<a href=\"https://colab.research.google.com/github/DaveWates/Assignment-ISYS5002/blob/main/Assignment4.ipynb\" target=\"_parent\"><img src=\"https://colab.research.google.com/assets/colab-badge.svg\" alt=\"Open In Colab\"/></a>"
      ]
    },
    {
      "cell_type": "markdown",
      "metadata": {
        "id": "mWkGbogfZwM2"
      },
      "source": [
        "**This Program determines the salary of key executive personnel of companies whereby a user provides a stock market ticker. (I have chosen the major Australian Banks as a test sample). It will then calculate the tax payable on the reported income.**\n"
      ]
    },
    {
      "cell_type": "markdown",
      "metadata": {
        "id": "Rzgd7R3maHan"
      },
      "source": [
        "**1. Load the packages**"
      ]
    },
    {
      "cell_type": "code",
      "metadata": {
        "id": "GV4F1HRVH49l"
      },
      "source": [
        "!pip install kora -q\n",
        "from kora.selenium import wd\n",
        "from bs4 import BeautifulSoup\n",
        "import pandas as pd\n",
        "import requests"
      ],
      "execution_count": 1,
      "outputs": []
    },
    {
      "cell_type": "code",
      "metadata": {
        "id": "Bg04gORePA2v"
      },
      "source": [
        "# Establish Pattern\n",
        "url = ('https://finance.yahoo.com')\n",
        "wd.get(url)"
      ],
      "execution_count": 2,
      "outputs": []
    },
    {
      "cell_type": "markdown",
      "metadata": {
        "id": "A0T97g7QW-4Z"
      },
      "source": [
        "**2. Query the Yahoo Finance website using a format string**. When we look for where in Yahoo finance the salary of the executives is stored, we choose a particular stock ticker symbol and select the profile tab. This then provides the relevant web url for the search. \n",
        "\n",
        "\n",
        "Of course this is specific to the ticker symbol input. In order to apply this across all companies, we use a format string which replaces the particular ticker with curly brackets. Then we issue a command to tell the program to format the url replacing the {} with what ever is input by the user. \n",
        "\n",
        "\n",
        "\n",
        "\n",
        "\n",
        "\n",
        "\n",
        "\n",
        "\n",
        "\n",
        "\n",
        "\n",
        "\n",
        "\n",
        "\n",
        "\n",
        "\n",
        "\n"
      ]
    },
    {
      "cell_type": "code",
      "metadata": {
        "colab": {
          "base_uri": "https://localhost:8080/"
        },
        "id": "O1gMCodarVQJ",
        "outputId": "88d04c96-a5e4-493a-a5c6-4e77b1037df3"
      },
      "source": [
        "# Work out the URL pattern\n",
        "salary_template = ('https://finance.yahoo.com/quote/{}/profile?p={}')\n",
        "#ticker_symbol = 'User input'\n",
        "ticker_symbol = input('What is the stock ticker symbol for the company you wish to search? ')\n",
        "url = salary_template.format(ticker_symbol,ticker_symbol)\n",
        "print('the url for the search is', get_ticker_symbol())"
      ],
      "execution_count": 23,
      "outputs": [
        {
          "output_type": "stream",
          "name": "stdout",
          "text": [
            "What is the stock ticker symbol for the company you wish to search? WBC.AX\n",
            "the url for the search is https://finance.yahoo.com/quote/WBC.AX/profile?p=WBC.AX\n"
          ]
        }
      ]
    },
    {
      "cell_type": "code",
      "metadata": {
        "id": "k1MXBMyEQTbQ"
      },
      "source": [
        "# Create a function to provide the relevant URL \n",
        "salary_template = ('https://finance.yahoo.com/quote/{}/profile?p={}')\n",
        "def get_ticker_symbol():\n",
        " url = salary_template.format(ticker_symbol,ticker_symbol)\n",
        " return url"
      ],
      "execution_count": 22,
      "outputs": []
    },
    {
      "cell_type": "code",
      "metadata": {
        "colab": {
          "base_uri": "https://localhost:8080/",
          "height": 37
        },
        "id": "Cs02jjDjsxrp",
        "outputId": "79b09de6-8733-4e57-dff6-f5f5e7d8302b"
      },
      "source": [
        "get_ticker_symbol()"
      ],
      "execution_count": 24,
      "outputs": [
        {
          "output_type": "execute_result",
          "data": {
            "application/vnd.google.colaboratory.intrinsic+json": {
              "type": "string"
            },
            "text/plain": [
              "'https://finance.yahoo.com/quote/WBC.AX/profile?p=WBC.AX'"
            ]
          },
          "metadata": {},
          "execution_count": 24
        }
      ]
    },
    {
      "cell_type": "markdown",
      "metadata": {
        "id": "KJdmy--oeWbZ"
      },
      "source": [
        ""
      ]
    },
    {
      "cell_type": "code",
      "metadata": {
        "colab": {
          "base_uri": "https://localhost:8080/"
        },
        "id": "TKt2kzlPdhg0",
        "outputId": "dfa2c5db-0c09-4019-9a81-e234ab250d8e"
      },
      "source": [
        "wd.get(get_ticker_symbol())\n",
        "soup = BeautifulSoup(wd.page_source, 'html.parser')\n",
        "table = soup.find('table')\n",
        "body = table.find('tbody')\n",
        "rows = body.find_all('tr')\n",
        "list_of_records = [] # create a empty list to save/store our records\n",
        "for row in rows:\n",
        "  data =row.find_all('td')\n",
        "  data =[x.text.strip() for x in data] \n",
        " # Remeber computer start counting form zero, so the 'first' is '0'\n",
        "  record = {'name': data[0], 'title': data[1], 'pay': data[2]}\n",
        "  list_of_records.append(record)  # save the record to our list\n",
        "# lets see if that workd, print out the records\n",
        "#print(str(list_of_records))\n",
        "#len(list_of_records)\n",
        "\n",
        "list_of_records = pd.DataFrame(list_of_records)\n",
        "print(list_of_records)\n",
        "\n",
        "\n",
        "#print(list_of_records[0]['name'],list_of_records[0]['pay'] )\n",
        "#print(list_of_records[1]['name'],list_of_records[1]['pay'] )\n",
        "#print(list_of_records[2]['name'],list_of_records[2]['pay'] )\n",
        "#print(list_of_records[3]['name'],list_of_records[3]['pay'] )\n",
        "#print(list_of_records[4]['name'],list_of_records[4]['pay'] )\n",
        "#print(list_of_records[5]['name'],list_of_records[5]['pay'] )\n",
        "#print(list_of_records[6]['name'],list_of_records[6]['pay'] )\n",
        "#print(list_of_records[7]['name'],list_of_records[7]['pay'] )\n",
        "#print(list_of_records[8]['name'],list_of_records[8]['pay'] )\n",
        "#print(list_of_records[9]['name'],list_of_records[9]['pay'] )"
      ],
      "execution_count": 25,
      "outputs": [
        {
          "output_type": "stream",
          "name": "stdout",
          "text": [
            "                                             name  ...      pay\n",
            "0         Mr. Peter Francis King F.C.A., BEc, FCA  ...    2.81M\n",
            "1             Mr. Michael  Rowland B.Com., F.C.A.  ...    1.22M\n",
            "2                         Mr. Leslie Wilson Vance  ...       1M\n",
            "3     Ms. Rebecca  Lim B Econ, L.L.B., LLB (Hons)  ...  871.92k\n",
            "4                           Ms. Christine  Parker  ...   999.8k\n",
            "5  Mr. Jason  Yetton B.Com., BCom, TGMP, GDAppFin  ...    1.25M\n",
            "6                        Ms. Carolyn  McCann B.A.  ...     941k\n",
            "7                              Mr. David  Stephen  ...    1.89M\n",
            "8                              Mr. Scott  Collary  ...      N/A\n",
            "9                              Mr. Andrew  Bowden  ...      N/A\n",
            "\n",
            "[10 rows x 3 columns]\n"
          ]
        }
      ]
    },
    {
      "cell_type": "code",
      "metadata": {
        "id": "Gju2yR5FgKhU"
      },
      "source": [
        "def get_records(soup):\n",
        "  table = soup.find('table')\n",
        "  body = table.find('tbody')\n",
        "  rows = body.find_all('tr')\n",
        "  list_of_records = [] # create a empty list to save/store our records\n",
        "  for row in rows:\n",
        "    for row in rows:\n",
        "     cols=row.find_all('td')\n",
        "     cols=[x.text.strip() for x in cols]\n",
        "     return (cols[0],cols[2])\n",
        "     list_of_records.append(cols[0],cols[2])    \n",
        "    #data = row.find_all('td')\n",
        "    # Remember computer start counting form zero, so the 'first' is '0'\n",
        "    #record = {'name': data[0], 'title': data[1], 'pay': data[2]}\n",
        "    #list_of_records.append(record)  # save the record to our list\n",
        "\n",
        "  #return list_of_records\n",
        "print(list_of_records)\n"
      ],
      "execution_count": null,
      "outputs": []
    },
    {
      "cell_type": "code",
      "metadata": {
        "id": "4HWgKUH6h9K4"
      },
      "source": [
        "def get_salary(salary_string):\n",
        "   cols[2] = salary_string[-1] \n",
        "   num_part = salary_string[0:-1]\n",
        "   if last_char == 'M':\n",
        "        salary = float(num_part) * 1000000\n",
        "   elif last_char == 'k': \n",
        "        salary = float(num_part) * 1000\n",
        "   else: # Must a N/A entry\n",
        "        salary = 0\n",
        "  "
      ],
      "execution_count": null,
      "outputs": []
    },
    {
      "cell_type": "code",
      "metadata": {
        "id": "LcmWqrpKjwrB"
      },
      "source": [
        "def calc_tax(income):\n",
        "  if income <= 18200:\n",
        "    tax = 0\n",
        "  elif 18200 < income <= 45000:\n",
        "    tax = (income - 18200) * 0.19\n",
        "  elif 45000 < income <= 120000:\n",
        "    tax = ((income - 45001) * 0.325) + 5092\n",
        "  elif 120000 < income <= 180000:\n",
        "    tax = ((income - 120001) * 0.37) + 29467\n",
        "  elif 18000 < income: \n",
        "    tax = ((income - 180001) * 0.45) + 51667\n",
        "  return tax"
      ],
      "execution_count": null,
      "outputs": []
    },
    {
      "cell_type": "code",
      "metadata": {
        "id": "ZkaFjbffjksr"
      },
      "source": [
        "tax_payable = []\n",
        "salary = cols[2]\n",
        "for salary in get_salary(salary_string):\n",
        "  tax = calc_tax(salary)\n",
        "  tax_payable.append(tax)"
      ],
      "execution_count": null,
      "outputs": []
    },
    {
      "cell_type": "code",
      "metadata": {
        "id": "VJePrxzcsAZ_"
      },
      "source": [
        "wd.get(get_ticker_symbol())\n",
        "soup = BeautifulSoup(wd.page_source, 'html.parser')\n",
        "table = soup.find('table')\n",
        "#for table_data in soup.find_all('div', {'class': 'content'}):\n",
        "       # print(table_data)\n",
        "\n",
        "\n",
        "#executive_salary = []\n",
        "\n",
        "#df = pd.DataFrame(executive_salary)\n",
        " \n",
        "for row in table.find_all('tr'):\n",
        " for row in rows:\n",
        "    cols=row.find_all('td')\n",
        "    cols=[x.text.strip() for x in cols]\n",
        "    print(cols)      \n",
        "   #data = row.find_all('td')\n",
        "   #row_data = [td.text.strip() for td in data]\n",
        "   \n",
        "   #executive_salary.append(row_data) \n",
        "#print(executive_salary[1])\n",
        "#print(executive_salary[2])  "
      ],
      "execution_count": null,
      "outputs": []
    },
    {
      "cell_type": "code",
      "metadata": {
        "id": "6p7x3uX8wSwC"
      },
      "source": [
        "soup = BeautifulSoup(wd.page_source, 'html.parser')\n",
        "tables = soup.find_all('table')\n",
        "table_rows = tables[0].find_all('tr')\n",
        "for tr in table_rows:\n",
        "  \n",
        " print (tr)"
      ],
      "execution_count": null,
      "outputs": []
    }
  ]
}